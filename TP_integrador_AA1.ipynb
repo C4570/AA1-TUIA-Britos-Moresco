{
  "cells": [
    {
      "cell_type": "markdown",
      "metadata": {
        "id": "-VWWpGkTUlfx"
      },
      "source": [
        "# Trabajo Práctico: Predicción de lluvia en Australia.\n",
        "\n",
        "**Materia:** Aprendizaje Automático I (IA41)\n",
        "\n",
        "**Comisión:** C-31527\n",
        "\n",
        "**Año académico:** 2024\n",
        "\n",
        "**Período lectivo:** 1° cuatrimestre\n",
        "\n",
        "**Integrantes:**\n",
        "- Moresco Brisa\n",
        "- Britos Julián Francisco"
      ]
    },
    {
      "cell_type": "markdown",
      "metadata": {},
      "source": [
        "# To Do List\n",
        "\n",
        "- Realizar la imputación de nulos previo a dividir el set de datos en train y test, ¿creen que es la mejor opción? Podría generarse data leakage.\n",
        "\n",
        "- En cuanto a la forma de hacer el split del set de datos, ¿creen que es la correcta para evitar data leakage? Se trata de un conjunto con fuerte dependencia cronológica.\n",
        "\n",
        "- ¿Está el set de datos balanceado o no?\n",
        "\n",
        "- Resta completar el análisis estadístico descriptivo con gráficos, comentarios y conclusiones.\n",
        "\n",
        "- Es importante agregar una gráfica de pérdida vs. iteraciones del gradiente descendente para observar que el modelo converja.\n",
        "\n",
        "- En cuanto al cálculo de métricas, restan las correspondientes al set de entrenamiento. ¿Por qué ambas son necesarias?\n",
        "\n",
        "- ¿Consiguió un buen fitting?\n",
        "\n",
        "- ¿Conclusiones?"
      ]
    },
    {
      "cell_type": "markdown",
      "metadata": {
        "id": "XyjrB3K8Ulfx"
      },
      "source": [
        "# Librerías"
      ]
    },
    {
      "cell_type": "code",
      "execution_count": 20,
      "metadata": {
        "id": "to9Ra5ibUlfy"
      },
      "outputs": [],
      "source": [
        "#!pip install pandas\n",
        "#!pip install seaborn\n",
        "#!pip install -U scikit-learn\n",
        "#!pip install numpy"
      ]
    },
    {
      "cell_type": "code",
      "execution_count": 21,
      "metadata": {
        "id": "wjJuWE3LUlfz"
      },
      "outputs": [],
      "source": [
        "import numpy as np\n",
        "import pandas as pd\n",
        "import seaborn as sns\n",
        "import matplotlib.pyplot as plt\n",
        "\n",
        "from sklearn.linear_model import Ridge, RidgeCV, LinearRegression, SGDRegressor, ElasticNet, ElasticNetCV, LassoCV, Lasso\n",
        "from sklearn.preprocessing import StandardScaler, MinMaxScaler\n",
        "from sklearn.model_selection import train_test_split\n",
        "from sklearn.impute import KNNImputer, SimpleImputer\n",
        "from sklearn.metrics import mean_squared_error, r2_score, mean_absolute_error"
      ]
    },
    {
      "cell_type": "markdown",
      "metadata": {
        "id": "UFXF-SSNUlfz"
      },
      "source": [
        "# Carga de datos"
      ]
    },
    {
      "cell_type": "code",
      "execution_count": 22,
      "metadata": {
        "id": "3ZACaegRUlf0"
      },
      "outputs": [],
      "source": [
        "# Carga datos de dataset\n",
        "# Contiene aproximadamente 10 años de observaciones diarias de variables climáticas: temperatura, dirección y velocidad del viento, humedad, presión, nubosidad, y cantidad de lluvia en mm.\n",
        "# tras observar los datos del día de hoy, el objetivo es predecir las variables target:\n",
        "#                                                                                     -RainFallTomorrow: cantidad de lluvia del día posterior a la observación. Problema de Regresión.\n",
        "#                                                                                     -RainTomorrow: si el día siguiente llueve o no llueve. Problema de Clasificación.\n",
        "file_path= 'weatherAUS.csv'\n",
        "weather_data = pd.read_csv(file_path, sep=',',engine='python')"
      ]
    },
    {
      "cell_type": "markdown",
      "metadata": {
        "id": "Qr69zwnmUlf0"
      },
      "source": [
        "# Análisis estadístico descriptivo"
      ]
    },
    {
      "cell_type": "markdown",
      "metadata": {},
      "source": [
        "## Visualización de datos"
      ]
    },
    {
      "cell_type": "code",
      "execution_count": 23,
      "metadata": {
        "colab": {
          "base_uri": "https://localhost:8080/",
          "height": 0
        },
        "id": "XNe3ADznUlf1",
        "outputId": "10ab204b-0864-4ab6-8bd8-c8cbab595276"
      },
      "outputs": [
        {
          "data": {
            "text/html": [
              "<div>\n",
              "<style scoped>\n",
              "    .dataframe tbody tr th:only-of-type {\n",
              "        vertical-align: middle;\n",
              "    }\n",
              "\n",
              "    .dataframe tbody tr th {\n",
              "        vertical-align: top;\n",
              "    }\n",
              "\n",
              "    .dataframe thead th {\n",
              "        text-align: right;\n",
              "    }\n",
              "</style>\n",
              "<table border=\"1\" class=\"dataframe\">\n",
              "  <thead>\n",
              "    <tr style=\"text-align: right;\">\n",
              "      <th></th>\n",
              "      <th>Unnamed: 0</th>\n",
              "      <th>Date</th>\n",
              "      <th>Location</th>\n",
              "      <th>MinTemp</th>\n",
              "      <th>MaxTemp</th>\n",
              "      <th>Rainfall</th>\n",
              "      <th>Evaporation</th>\n",
              "      <th>Sunshine</th>\n",
              "      <th>WindGustDir</th>\n",
              "      <th>WindGustSpeed</th>\n",
              "      <th>...</th>\n",
              "      <th>Humidity3pm</th>\n",
              "      <th>Pressure9am</th>\n",
              "      <th>Pressure3pm</th>\n",
              "      <th>Cloud9am</th>\n",
              "      <th>Cloud3pm</th>\n",
              "      <th>Temp9am</th>\n",
              "      <th>Temp3pm</th>\n",
              "      <th>RainToday</th>\n",
              "      <th>RainTomorrow</th>\n",
              "      <th>RainfallTomorrow</th>\n",
              "    </tr>\n",
              "  </thead>\n",
              "  <tbody>\n",
              "    <tr>\n",
              "      <th>0</th>\n",
              "      <td>0</td>\n",
              "      <td>2008-12-01</td>\n",
              "      <td>Albury</td>\n",
              "      <td>13.4</td>\n",
              "      <td>22.9</td>\n",
              "      <td>0.6</td>\n",
              "      <td>NaN</td>\n",
              "      <td>NaN</td>\n",
              "      <td>W</td>\n",
              "      <td>44.0</td>\n",
              "      <td>...</td>\n",
              "      <td>22.0</td>\n",
              "      <td>1007.7</td>\n",
              "      <td>1007.1</td>\n",
              "      <td>8.0</td>\n",
              "      <td>NaN</td>\n",
              "      <td>16.9</td>\n",
              "      <td>21.8</td>\n",
              "      <td>No</td>\n",
              "      <td>No</td>\n",
              "      <td>0.0</td>\n",
              "    </tr>\n",
              "    <tr>\n",
              "      <th>1</th>\n",
              "      <td>1</td>\n",
              "      <td>2008-12-02</td>\n",
              "      <td>Albury</td>\n",
              "      <td>7.4</td>\n",
              "      <td>25.1</td>\n",
              "      <td>0.0</td>\n",
              "      <td>NaN</td>\n",
              "      <td>NaN</td>\n",
              "      <td>WNW</td>\n",
              "      <td>44.0</td>\n",
              "      <td>...</td>\n",
              "      <td>25.0</td>\n",
              "      <td>1010.6</td>\n",
              "      <td>1007.8</td>\n",
              "      <td>NaN</td>\n",
              "      <td>NaN</td>\n",
              "      <td>17.2</td>\n",
              "      <td>24.3</td>\n",
              "      <td>No</td>\n",
              "      <td>No</td>\n",
              "      <td>0.0</td>\n",
              "    </tr>\n",
              "    <tr>\n",
              "      <th>2</th>\n",
              "      <td>2</td>\n",
              "      <td>2008-12-03</td>\n",
              "      <td>Albury</td>\n",
              "      <td>12.9</td>\n",
              "      <td>25.7</td>\n",
              "      <td>0.0</td>\n",
              "      <td>NaN</td>\n",
              "      <td>NaN</td>\n",
              "      <td>WSW</td>\n",
              "      <td>46.0</td>\n",
              "      <td>...</td>\n",
              "      <td>30.0</td>\n",
              "      <td>1007.6</td>\n",
              "      <td>1008.7</td>\n",
              "      <td>NaN</td>\n",
              "      <td>2.0</td>\n",
              "      <td>21.0</td>\n",
              "      <td>23.2</td>\n",
              "      <td>No</td>\n",
              "      <td>No</td>\n",
              "      <td>0.0</td>\n",
              "    </tr>\n",
              "    <tr>\n",
              "      <th>3</th>\n",
              "      <td>3</td>\n",
              "      <td>2008-12-04</td>\n",
              "      <td>Albury</td>\n",
              "      <td>9.2</td>\n",
              "      <td>28.0</td>\n",
              "      <td>0.0</td>\n",
              "      <td>NaN</td>\n",
              "      <td>NaN</td>\n",
              "      <td>NE</td>\n",
              "      <td>24.0</td>\n",
              "      <td>...</td>\n",
              "      <td>16.0</td>\n",
              "      <td>1017.6</td>\n",
              "      <td>1012.8</td>\n",
              "      <td>NaN</td>\n",
              "      <td>NaN</td>\n",
              "      <td>18.1</td>\n",
              "      <td>26.5</td>\n",
              "      <td>No</td>\n",
              "      <td>No</td>\n",
              "      <td>1.0</td>\n",
              "    </tr>\n",
              "    <tr>\n",
              "      <th>4</th>\n",
              "      <td>4</td>\n",
              "      <td>2008-12-05</td>\n",
              "      <td>Albury</td>\n",
              "      <td>17.5</td>\n",
              "      <td>32.3</td>\n",
              "      <td>1.0</td>\n",
              "      <td>NaN</td>\n",
              "      <td>NaN</td>\n",
              "      <td>W</td>\n",
              "      <td>41.0</td>\n",
              "      <td>...</td>\n",
              "      <td>33.0</td>\n",
              "      <td>1010.8</td>\n",
              "      <td>1006.0</td>\n",
              "      <td>7.0</td>\n",
              "      <td>8.0</td>\n",
              "      <td>17.8</td>\n",
              "      <td>29.7</td>\n",
              "      <td>No</td>\n",
              "      <td>No</td>\n",
              "      <td>0.2</td>\n",
              "    </tr>\n",
              "    <tr>\n",
              "      <th>...</th>\n",
              "      <td>...</td>\n",
              "      <td>...</td>\n",
              "      <td>...</td>\n",
              "      <td>...</td>\n",
              "      <td>...</td>\n",
              "      <td>...</td>\n",
              "      <td>...</td>\n",
              "      <td>...</td>\n",
              "      <td>...</td>\n",
              "      <td>...</td>\n",
              "      <td>...</td>\n",
              "      <td>...</td>\n",
              "      <td>...</td>\n",
              "      <td>...</td>\n",
              "      <td>...</td>\n",
              "      <td>...</td>\n",
              "      <td>...</td>\n",
              "      <td>...</td>\n",
              "      <td>...</td>\n",
              "      <td>...</td>\n",
              "      <td>...</td>\n",
              "    </tr>\n",
              "    <tr>\n",
              "      <th>145407</th>\n",
              "      <td>145454</td>\n",
              "      <td>2017-06-20</td>\n",
              "      <td>Uluru</td>\n",
              "      <td>3.5</td>\n",
              "      <td>21.8</td>\n",
              "      <td>0.0</td>\n",
              "      <td>NaN</td>\n",
              "      <td>NaN</td>\n",
              "      <td>E</td>\n",
              "      <td>31.0</td>\n",
              "      <td>...</td>\n",
              "      <td>27.0</td>\n",
              "      <td>1024.7</td>\n",
              "      <td>1021.2</td>\n",
              "      <td>NaN</td>\n",
              "      <td>NaN</td>\n",
              "      <td>9.4</td>\n",
              "      <td>20.9</td>\n",
              "      <td>No</td>\n",
              "      <td>No</td>\n",
              "      <td>0.0</td>\n",
              "    </tr>\n",
              "    <tr>\n",
              "      <th>145408</th>\n",
              "      <td>145455</td>\n",
              "      <td>2017-06-21</td>\n",
              "      <td>Uluru</td>\n",
              "      <td>2.8</td>\n",
              "      <td>23.4</td>\n",
              "      <td>0.0</td>\n",
              "      <td>NaN</td>\n",
              "      <td>NaN</td>\n",
              "      <td>E</td>\n",
              "      <td>31.0</td>\n",
              "      <td>...</td>\n",
              "      <td>24.0</td>\n",
              "      <td>1024.6</td>\n",
              "      <td>1020.3</td>\n",
              "      <td>NaN</td>\n",
              "      <td>NaN</td>\n",
              "      <td>10.1</td>\n",
              "      <td>22.4</td>\n",
              "      <td>No</td>\n",
              "      <td>No</td>\n",
              "      <td>0.0</td>\n",
              "    </tr>\n",
              "    <tr>\n",
              "      <th>145409</th>\n",
              "      <td>145456</td>\n",
              "      <td>2017-06-22</td>\n",
              "      <td>Uluru</td>\n",
              "      <td>3.6</td>\n",
              "      <td>25.3</td>\n",
              "      <td>0.0</td>\n",
              "      <td>NaN</td>\n",
              "      <td>NaN</td>\n",
              "      <td>NNW</td>\n",
              "      <td>22.0</td>\n",
              "      <td>...</td>\n",
              "      <td>21.0</td>\n",
              "      <td>1023.5</td>\n",
              "      <td>1019.1</td>\n",
              "      <td>NaN</td>\n",
              "      <td>NaN</td>\n",
              "      <td>10.9</td>\n",
              "      <td>24.5</td>\n",
              "      <td>No</td>\n",
              "      <td>No</td>\n",
              "      <td>0.0</td>\n",
              "    </tr>\n",
              "    <tr>\n",
              "      <th>145410</th>\n",
              "      <td>145457</td>\n",
              "      <td>2017-06-23</td>\n",
              "      <td>Uluru</td>\n",
              "      <td>5.4</td>\n",
              "      <td>26.9</td>\n",
              "      <td>0.0</td>\n",
              "      <td>NaN</td>\n",
              "      <td>NaN</td>\n",
              "      <td>N</td>\n",
              "      <td>37.0</td>\n",
              "      <td>...</td>\n",
              "      <td>24.0</td>\n",
              "      <td>1021.0</td>\n",
              "      <td>1016.8</td>\n",
              "      <td>NaN</td>\n",
              "      <td>NaN</td>\n",
              "      <td>12.5</td>\n",
              "      <td>26.1</td>\n",
              "      <td>No</td>\n",
              "      <td>No</td>\n",
              "      <td>0.0</td>\n",
              "    </tr>\n",
              "    <tr>\n",
              "      <th>145411</th>\n",
              "      <td>145458</td>\n",
              "      <td>2017-06-24</td>\n",
              "      <td>Uluru</td>\n",
              "      <td>7.8</td>\n",
              "      <td>27.0</td>\n",
              "      <td>0.0</td>\n",
              "      <td>NaN</td>\n",
              "      <td>NaN</td>\n",
              "      <td>SE</td>\n",
              "      <td>28.0</td>\n",
              "      <td>...</td>\n",
              "      <td>24.0</td>\n",
              "      <td>1019.4</td>\n",
              "      <td>1016.5</td>\n",
              "      <td>3.0</td>\n",
              "      <td>2.0</td>\n",
              "      <td>15.1</td>\n",
              "      <td>26.0</td>\n",
              "      <td>No</td>\n",
              "      <td>No</td>\n",
              "      <td>0.0</td>\n",
              "    </tr>\n",
              "  </tbody>\n",
              "</table>\n",
              "<p>145412 rows × 25 columns</p>\n",
              "</div>"
            ],
            "text/plain": [
              "        Unnamed: 0        Date Location  MinTemp  MaxTemp  Rainfall  \\\n",
              "0                0  2008-12-01   Albury     13.4     22.9       0.6   \n",
              "1                1  2008-12-02   Albury      7.4     25.1       0.0   \n",
              "2                2  2008-12-03   Albury     12.9     25.7       0.0   \n",
              "3                3  2008-12-04   Albury      9.2     28.0       0.0   \n",
              "4                4  2008-12-05   Albury     17.5     32.3       1.0   \n",
              "...            ...         ...      ...      ...      ...       ...   \n",
              "145407      145454  2017-06-20    Uluru      3.5     21.8       0.0   \n",
              "145408      145455  2017-06-21    Uluru      2.8     23.4       0.0   \n",
              "145409      145456  2017-06-22    Uluru      3.6     25.3       0.0   \n",
              "145410      145457  2017-06-23    Uluru      5.4     26.9       0.0   \n",
              "145411      145458  2017-06-24    Uluru      7.8     27.0       0.0   \n",
              "\n",
              "        Evaporation  Sunshine WindGustDir  WindGustSpeed  ... Humidity3pm  \\\n",
              "0               NaN       NaN           W           44.0  ...        22.0   \n",
              "1               NaN       NaN         WNW           44.0  ...        25.0   \n",
              "2               NaN       NaN         WSW           46.0  ...        30.0   \n",
              "3               NaN       NaN          NE           24.0  ...        16.0   \n",
              "4               NaN       NaN           W           41.0  ...        33.0   \n",
              "...             ...       ...         ...            ...  ...         ...   \n",
              "145407          NaN       NaN           E           31.0  ...        27.0   \n",
              "145408          NaN       NaN           E           31.0  ...        24.0   \n",
              "145409          NaN       NaN         NNW           22.0  ...        21.0   \n",
              "145410          NaN       NaN           N           37.0  ...        24.0   \n",
              "145411          NaN       NaN          SE           28.0  ...        24.0   \n",
              "\n",
              "       Pressure9am  Pressure3pm  Cloud9am  Cloud3pm  Temp9am  Temp3pm  \\\n",
              "0           1007.7       1007.1       8.0       NaN     16.9     21.8   \n",
              "1           1010.6       1007.8       NaN       NaN     17.2     24.3   \n",
              "2           1007.6       1008.7       NaN       2.0     21.0     23.2   \n",
              "3           1017.6       1012.8       NaN       NaN     18.1     26.5   \n",
              "4           1010.8       1006.0       7.0       8.0     17.8     29.7   \n",
              "...            ...          ...       ...       ...      ...      ...   \n",
              "145407      1024.7       1021.2       NaN       NaN      9.4     20.9   \n",
              "145408      1024.6       1020.3       NaN       NaN     10.1     22.4   \n",
              "145409      1023.5       1019.1       NaN       NaN     10.9     24.5   \n",
              "145410      1021.0       1016.8       NaN       NaN     12.5     26.1   \n",
              "145411      1019.4       1016.5       3.0       2.0     15.1     26.0   \n",
              "\n",
              "        RainToday  RainTomorrow  RainfallTomorrow  \n",
              "0              No            No               0.0  \n",
              "1              No            No               0.0  \n",
              "2              No            No               0.0  \n",
              "3              No            No               1.0  \n",
              "4              No            No               0.2  \n",
              "...           ...           ...               ...  \n",
              "145407         No            No               0.0  \n",
              "145408         No            No               0.0  \n",
              "145409         No            No               0.0  \n",
              "145410         No            No               0.0  \n",
              "145411         No            No               0.0  \n",
              "\n",
              "[145412 rows x 25 columns]"
            ]
          },
          "execution_count": 23,
          "metadata": {},
          "output_type": "execute_result"
        }
      ],
      "source": [
        "# Vista de datos\n",
        "weather_data"
      ]
    },
    {
      "cell_type": "code",
      "execution_count": 24,
      "metadata": {
        "colab": {
          "base_uri": "https://localhost:8080/"
        },
        "id": "ZN3zPAthUlf2",
        "outputId": "885c7013-df2c-4e92-f2e3-d405ba8b5fe5"
      },
      "outputs": [
        {
          "data": {
            "text/plain": [
              "Index(['Unnamed: 0', 'Date', 'Location', 'MinTemp', 'MaxTemp', 'Rainfall',\n",
              "       'Evaporation', 'Sunshine', 'WindGustDir', 'WindGustSpeed', 'WindDir9am',\n",
              "       'WindDir3pm', 'WindSpeed9am', 'WindSpeed3pm', 'Humidity9am',\n",
              "       'Humidity3pm', 'Pressure9am', 'Pressure3pm', 'Cloud9am', 'Cloud3pm',\n",
              "       'Temp9am', 'Temp3pm', 'RainToday', 'RainTomorrow', 'RainfallTomorrow'],\n",
              "      dtype='object')"
            ]
          },
          "execution_count": 24,
          "metadata": {},
          "output_type": "execute_result"
        }
      ],
      "source": [
        "# Columnas\n",
        "weather_data.columns"
      ]
    },
    {
      "cell_type": "code",
      "execution_count": 25,
      "metadata": {
        "colab": {
          "base_uri": "https://localhost:8080/"
        },
        "id": "lXPHvqdtUlf2",
        "outputId": "1bf2ddcd-94a5-427f-c555-ea95f435d302"
      },
      "outputs": [
        {
          "data": {
            "text/plain": [
              "Unnamed: 0            int64\n",
              "Date                 object\n",
              "Location             object\n",
              "MinTemp             float64\n",
              "MaxTemp             float64\n",
              "Rainfall            float64\n",
              "Evaporation         float64\n",
              "Sunshine            float64\n",
              "WindGustDir          object\n",
              "WindGustSpeed       float64\n",
              "WindDir9am           object\n",
              "WindDir3pm           object\n",
              "WindSpeed9am        float64\n",
              "WindSpeed3pm        float64\n",
              "Humidity9am         float64\n",
              "Humidity3pm         float64\n",
              "Pressure9am         float64\n",
              "Pressure3pm         float64\n",
              "Cloud9am            float64\n",
              "Cloud3pm            float64\n",
              "Temp9am             float64\n",
              "Temp3pm             float64\n",
              "RainToday            object\n",
              "RainTomorrow         object\n",
              "RainfallTomorrow    float64\n",
              "dtype: object"
            ]
          },
          "execution_count": 25,
          "metadata": {},
          "output_type": "execute_result"
        }
      ],
      "source": [
        "# Tipos de variables\n",
        "weather_data.dtypes"
      ]
    },
    {
      "cell_type": "code",
      "execution_count": 26,
      "metadata": {
        "colab": {
          "base_uri": "https://localhost:8080/"
        },
        "id": "kJ3SAYJAUlf3",
        "outputId": "30928fe8-fea3-477b-c687-04c3c6a99f93"
      },
      "outputs": [
        {
          "data": {
            "text/plain": [
              "Unnamed: 0              0\n",
              "Date                    0\n",
              "Location                0\n",
              "MinTemp              1484\n",
              "MaxTemp              1253\n",
              "Rainfall             3260\n",
              "Evaporation         62754\n",
              "Sunshine            69796\n",
              "WindGustDir         10316\n",
              "WindGustSpeed       10253\n",
              "WindDir9am          10562\n",
              "WindDir3pm           4226\n",
              "WindSpeed9am         1767\n",
              "WindSpeed3pm         3061\n",
              "Humidity9am          2653\n",
              "Humidity3pm          4505\n",
              "Pressure9am         15061\n",
              "Pressure3pm         15024\n",
              "Cloud9am            55870\n",
              "Cloud3pm            59336\n",
              "Temp9am              1766\n",
              "Temp3pm              3607\n",
              "RainToday            3260\n",
              "RainTomorrow         3259\n",
              "RainfallTomorrow     3259\n",
              "dtype: int64"
            ]
          },
          "execution_count": 26,
          "metadata": {},
          "output_type": "execute_result"
        }
      ],
      "source": [
        "# Cantidad de valores faltantes.\n",
        "weather_data.isna().sum()"
      ]
    },
    {
      "cell_type": "code",
      "execution_count": 27,
      "metadata": {},
      "outputs": [
        {
          "data": {
            "text/html": [
              "<div>\n",
              "<style scoped>\n",
              "    .dataframe tbody tr th:only-of-type {\n",
              "        vertical-align: middle;\n",
              "    }\n",
              "\n",
              "    .dataframe tbody tr th {\n",
              "        vertical-align: top;\n",
              "    }\n",
              "\n",
              "    .dataframe thead th {\n",
              "        text-align: right;\n",
              "    }\n",
              "</style>\n",
              "<table border=\"1\" class=\"dataframe\">\n",
              "  <thead>\n",
              "    <tr style=\"text-align: right;\">\n",
              "      <th></th>\n",
              "      <th>Unnamed: 0</th>\n",
              "      <th>Date</th>\n",
              "      <th>Location</th>\n",
              "      <th>MinTemp</th>\n",
              "      <th>MaxTemp</th>\n",
              "      <th>Rainfall</th>\n",
              "      <th>Evaporation</th>\n",
              "      <th>Sunshine</th>\n",
              "      <th>WindGustDir</th>\n",
              "      <th>WindGustSpeed</th>\n",
              "      <th>...</th>\n",
              "      <th>Humidity3pm</th>\n",
              "      <th>Pressure9am</th>\n",
              "      <th>Pressure3pm</th>\n",
              "      <th>Cloud9am</th>\n",
              "      <th>Cloud3pm</th>\n",
              "      <th>Temp9am</th>\n",
              "      <th>Temp3pm</th>\n",
              "      <th>RainToday</th>\n",
              "      <th>RainTomorrow</th>\n",
              "      <th>RainfallTomorrow</th>\n",
              "    </tr>\n",
              "  </thead>\n",
              "  <tbody>\n",
              "    <tr>\n",
              "      <th>count</th>\n",
              "      <td>145412.000000</td>\n",
              "      <td>145412</td>\n",
              "      <td>145412</td>\n",
              "      <td>143928.000000</td>\n",
              "      <td>144159.000000</td>\n",
              "      <td>142152.000000</td>\n",
              "      <td>82658.000000</td>\n",
              "      <td>75616.000000</td>\n",
              "      <td>135096</td>\n",
              "      <td>135159.000000</td>\n",
              "      <td>...</td>\n",
              "      <td>140907.000000</td>\n",
              "      <td>130351.000000</td>\n",
              "      <td>130388.000000</td>\n",
              "      <td>89542.000000</td>\n",
              "      <td>86076.000000</td>\n",
              "      <td>143646.000000</td>\n",
              "      <td>141805.000000</td>\n",
              "      <td>142152</td>\n",
              "      <td>142153</td>\n",
              "      <td>142153.000000</td>\n",
              "    </tr>\n",
              "    <tr>\n",
              "      <th>unique</th>\n",
              "      <td>NaN</td>\n",
              "      <td>3435</td>\n",
              "      <td>49</td>\n",
              "      <td>NaN</td>\n",
              "      <td>NaN</td>\n",
              "      <td>NaN</td>\n",
              "      <td>NaN</td>\n",
              "      <td>NaN</td>\n",
              "      <td>16</td>\n",
              "      <td>NaN</td>\n",
              "      <td>...</td>\n",
              "      <td>NaN</td>\n",
              "      <td>NaN</td>\n",
              "      <td>NaN</td>\n",
              "      <td>NaN</td>\n",
              "      <td>NaN</td>\n",
              "      <td>NaN</td>\n",
              "      <td>NaN</td>\n",
              "      <td>2</td>\n",
              "      <td>2</td>\n",
              "      <td>NaN</td>\n",
              "    </tr>\n",
              "    <tr>\n",
              "      <th>top</th>\n",
              "      <td>NaN</td>\n",
              "      <td>2013-11-11</td>\n",
              "      <td>Canberra</td>\n",
              "      <td>NaN</td>\n",
              "      <td>NaN</td>\n",
              "      <td>NaN</td>\n",
              "      <td>NaN</td>\n",
              "      <td>NaN</td>\n",
              "      <td>W</td>\n",
              "      <td>NaN</td>\n",
              "      <td>...</td>\n",
              "      <td>NaN</td>\n",
              "      <td>NaN</td>\n",
              "      <td>NaN</td>\n",
              "      <td>NaN</td>\n",
              "      <td>NaN</td>\n",
              "      <td>NaN</td>\n",
              "      <td>NaN</td>\n",
              "      <td>No</td>\n",
              "      <td>No</td>\n",
              "      <td>NaN</td>\n",
              "    </tr>\n",
              "    <tr>\n",
              "      <th>freq</th>\n",
              "      <td>NaN</td>\n",
              "      <td>49</td>\n",
              "      <td>3435</td>\n",
              "      <td>NaN</td>\n",
              "      <td>NaN</td>\n",
              "      <td>NaN</td>\n",
              "      <td>NaN</td>\n",
              "      <td>NaN</td>\n",
              "      <td>9910</td>\n",
              "      <td>NaN</td>\n",
              "      <td>...</td>\n",
              "      <td>NaN</td>\n",
              "      <td>NaN</td>\n",
              "      <td>NaN</td>\n",
              "      <td>NaN</td>\n",
              "      <td>NaN</td>\n",
              "      <td>NaN</td>\n",
              "      <td>NaN</td>\n",
              "      <td>110276</td>\n",
              "      <td>110281</td>\n",
              "      <td>NaN</td>\n",
              "    </tr>\n",
              "    <tr>\n",
              "      <th>mean</th>\n",
              "      <td>72728.184393</td>\n",
              "      <td>NaN</td>\n",
              "      <td>NaN</td>\n",
              "      <td>12.195873</td>\n",
              "      <td>23.223176</td>\n",
              "      <td>2.361516</td>\n",
              "      <td>5.468616</td>\n",
              "      <td>7.611241</td>\n",
              "      <td>NaN</td>\n",
              "      <td>40.036564</td>\n",
              "      <td>...</td>\n",
              "      <td>51.537432</td>\n",
              "      <td>1017.649277</td>\n",
              "      <td>1015.255184</td>\n",
              "      <td>4.447287</td>\n",
              "      <td>4.509770</td>\n",
              "      <td>16.992780</td>\n",
              "      <td>21.685249</td>\n",
              "      <td>NaN</td>\n",
              "      <td>NaN</td>\n",
              "      <td>2.361242</td>\n",
              "    </tr>\n",
              "    <tr>\n",
              "      <th>std</th>\n",
              "      <td>41990.722236</td>\n",
              "      <td>NaN</td>\n",
              "      <td>NaN</td>\n",
              "      <td>6.398018</td>\n",
              "      <td>7.118770</td>\n",
              "      <td>8.479338</td>\n",
              "      <td>4.193871</td>\n",
              "      <td>3.785612</td>\n",
              "      <td>NaN</td>\n",
              "      <td>13.607212</td>\n",
              "      <td>...</td>\n",
              "      <td>20.796720</td>\n",
              "      <td>7.107132</td>\n",
              "      <td>7.037981</td>\n",
              "      <td>2.887161</td>\n",
              "      <td>2.720306</td>\n",
              "      <td>6.488045</td>\n",
              "      <td>6.936358</td>\n",
              "      <td>NaN</td>\n",
              "      <td>NaN</td>\n",
              "      <td>8.479084</td>\n",
              "    </tr>\n",
              "    <tr>\n",
              "      <th>min</th>\n",
              "      <td>0.000000</td>\n",
              "      <td>NaN</td>\n",
              "      <td>NaN</td>\n",
              "      <td>-8.500000</td>\n",
              "      <td>-4.800000</td>\n",
              "      <td>0.000000</td>\n",
              "      <td>0.000000</td>\n",
              "      <td>0.000000</td>\n",
              "      <td>NaN</td>\n",
              "      <td>6.000000</td>\n",
              "      <td>...</td>\n",
              "      <td>0.000000</td>\n",
              "      <td>980.500000</td>\n",
              "      <td>977.100000</td>\n",
              "      <td>0.000000</td>\n",
              "      <td>0.000000</td>\n",
              "      <td>-7.200000</td>\n",
              "      <td>-5.400000</td>\n",
              "      <td>NaN</td>\n",
              "      <td>NaN</td>\n",
              "      <td>0.000000</td>\n",
              "    </tr>\n",
              "    <tr>\n",
              "      <th>25%</th>\n",
              "      <td>36362.750000</td>\n",
              "      <td>NaN</td>\n",
              "      <td>NaN</td>\n",
              "      <td>7.600000</td>\n",
              "      <td>17.900000</td>\n",
              "      <td>0.000000</td>\n",
              "      <td>2.600000</td>\n",
              "      <td>4.800000</td>\n",
              "      <td>NaN</td>\n",
              "      <td>31.000000</td>\n",
              "      <td>...</td>\n",
              "      <td>37.000000</td>\n",
              "      <td>1012.900000</td>\n",
              "      <td>1010.400000</td>\n",
              "      <td>1.000000</td>\n",
              "      <td>2.000000</td>\n",
              "      <td>12.300000</td>\n",
              "      <td>16.600000</td>\n",
              "      <td>NaN</td>\n",
              "      <td>NaN</td>\n",
              "      <td>0.000000</td>\n",
              "    </tr>\n",
              "    <tr>\n",
              "      <th>50%</th>\n",
              "      <td>72727.500000</td>\n",
              "      <td>NaN</td>\n",
              "      <td>NaN</td>\n",
              "      <td>12.000000</td>\n",
              "      <td>22.600000</td>\n",
              "      <td>0.000000</td>\n",
              "      <td>4.800000</td>\n",
              "      <td>8.400000</td>\n",
              "      <td>NaN</td>\n",
              "      <td>39.000000</td>\n",
              "      <td>...</td>\n",
              "      <td>52.000000</td>\n",
              "      <td>1017.600000</td>\n",
              "      <td>1015.200000</td>\n",
              "      <td>5.000000</td>\n",
              "      <td>5.000000</td>\n",
              "      <td>16.700000</td>\n",
              "      <td>21.100000</td>\n",
              "      <td>NaN</td>\n",
              "      <td>NaN</td>\n",
              "      <td>0.000000</td>\n",
              "    </tr>\n",
              "    <tr>\n",
              "      <th>75%</th>\n",
              "      <td>109093.250000</td>\n",
              "      <td>NaN</td>\n",
              "      <td>NaN</td>\n",
              "      <td>16.900000</td>\n",
              "      <td>28.200000</td>\n",
              "      <td>0.800000</td>\n",
              "      <td>7.400000</td>\n",
              "      <td>10.600000</td>\n",
              "      <td>NaN</td>\n",
              "      <td>48.000000</td>\n",
              "      <td>...</td>\n",
              "      <td>66.000000</td>\n",
              "      <td>1022.400000</td>\n",
              "      <td>1020.000000</td>\n",
              "      <td>7.000000</td>\n",
              "      <td>7.000000</td>\n",
              "      <td>21.600000</td>\n",
              "      <td>26.400000</td>\n",
              "      <td>NaN</td>\n",
              "      <td>NaN</td>\n",
              "      <td>0.800000</td>\n",
              "    </tr>\n",
              "    <tr>\n",
              "      <th>max</th>\n",
              "      <td>145458.000000</td>\n",
              "      <td>NaN</td>\n",
              "      <td>NaN</td>\n",
              "      <td>33.900000</td>\n",
              "      <td>48.100000</td>\n",
              "      <td>371.000000</td>\n",
              "      <td>145.000000</td>\n",
              "      <td>14.500000</td>\n",
              "      <td>NaN</td>\n",
              "      <td>135.000000</td>\n",
              "      <td>...</td>\n",
              "      <td>100.000000</td>\n",
              "      <td>1041.000000</td>\n",
              "      <td>1039.600000</td>\n",
              "      <td>9.000000</td>\n",
              "      <td>9.000000</td>\n",
              "      <td>40.200000</td>\n",
              "      <td>46.700000</td>\n",
              "      <td>NaN</td>\n",
              "      <td>NaN</td>\n",
              "      <td>371.000000</td>\n",
              "    </tr>\n",
              "  </tbody>\n",
              "</table>\n",
              "<p>11 rows × 25 columns</p>\n",
              "</div>"
            ],
            "text/plain": [
              "           Unnamed: 0        Date  Location        MinTemp        MaxTemp  \\\n",
              "count   145412.000000      145412    145412  143928.000000  144159.000000   \n",
              "unique            NaN        3435        49            NaN            NaN   \n",
              "top               NaN  2013-11-11  Canberra            NaN            NaN   \n",
              "freq              NaN          49      3435            NaN            NaN   \n",
              "mean     72728.184393         NaN       NaN      12.195873      23.223176   \n",
              "std      41990.722236         NaN       NaN       6.398018       7.118770   \n",
              "min          0.000000         NaN       NaN      -8.500000      -4.800000   \n",
              "25%      36362.750000         NaN       NaN       7.600000      17.900000   \n",
              "50%      72727.500000         NaN       NaN      12.000000      22.600000   \n",
              "75%     109093.250000         NaN       NaN      16.900000      28.200000   \n",
              "max     145458.000000         NaN       NaN      33.900000      48.100000   \n",
              "\n",
              "             Rainfall   Evaporation      Sunshine WindGustDir  WindGustSpeed  \\\n",
              "count   142152.000000  82658.000000  75616.000000      135096  135159.000000   \n",
              "unique            NaN           NaN           NaN          16            NaN   \n",
              "top               NaN           NaN           NaN           W            NaN   \n",
              "freq              NaN           NaN           NaN        9910            NaN   \n",
              "mean         2.361516      5.468616      7.611241         NaN      40.036564   \n",
              "std          8.479338      4.193871      3.785612         NaN      13.607212   \n",
              "min          0.000000      0.000000      0.000000         NaN       6.000000   \n",
              "25%          0.000000      2.600000      4.800000         NaN      31.000000   \n",
              "50%          0.000000      4.800000      8.400000         NaN      39.000000   \n",
              "75%          0.800000      7.400000     10.600000         NaN      48.000000   \n",
              "max        371.000000    145.000000     14.500000         NaN     135.000000   \n",
              "\n",
              "        ...    Humidity3pm    Pressure9am    Pressure3pm      Cloud9am  \\\n",
              "count   ...  140907.000000  130351.000000  130388.000000  89542.000000   \n",
              "unique  ...            NaN            NaN            NaN           NaN   \n",
              "top     ...            NaN            NaN            NaN           NaN   \n",
              "freq    ...            NaN            NaN            NaN           NaN   \n",
              "mean    ...      51.537432    1017.649277    1015.255184      4.447287   \n",
              "std     ...      20.796720       7.107132       7.037981      2.887161   \n",
              "min     ...       0.000000     980.500000     977.100000      0.000000   \n",
              "25%     ...      37.000000    1012.900000    1010.400000      1.000000   \n",
              "50%     ...      52.000000    1017.600000    1015.200000      5.000000   \n",
              "75%     ...      66.000000    1022.400000    1020.000000      7.000000   \n",
              "max     ...     100.000000    1041.000000    1039.600000      9.000000   \n",
              "\n",
              "            Cloud3pm        Temp9am        Temp3pm  RainToday  RainTomorrow  \\\n",
              "count   86076.000000  143646.000000  141805.000000     142152        142153   \n",
              "unique           NaN            NaN            NaN          2             2   \n",
              "top              NaN            NaN            NaN         No            No   \n",
              "freq             NaN            NaN            NaN     110276        110281   \n",
              "mean        4.509770      16.992780      21.685249        NaN           NaN   \n",
              "std         2.720306       6.488045       6.936358        NaN           NaN   \n",
              "min         0.000000      -7.200000      -5.400000        NaN           NaN   \n",
              "25%         2.000000      12.300000      16.600000        NaN           NaN   \n",
              "50%         5.000000      16.700000      21.100000        NaN           NaN   \n",
              "75%         7.000000      21.600000      26.400000        NaN           NaN   \n",
              "max         9.000000      40.200000      46.700000        NaN           NaN   \n",
              "\n",
              "        RainfallTomorrow  \n",
              "count      142153.000000  \n",
              "unique               NaN  \n",
              "top                  NaN  \n",
              "freq                 NaN  \n",
              "mean            2.361242  \n",
              "std             8.479084  \n",
              "min             0.000000  \n",
              "25%             0.000000  \n",
              "50%             0.000000  \n",
              "75%             0.800000  \n",
              "max           371.000000  \n",
              "\n",
              "[11 rows x 25 columns]"
            ]
          },
          "execution_count": 27,
          "metadata": {},
          "output_type": "execute_result"
        }
      ],
      "source": [
        "# Estadísticas descriptivas\n",
        "weather_data.describe(include='all')"
      ]
    },
    {
      "cell_type": "markdown",
      "metadata": {},
      "source": [
        "## Gráficos"
      ]
    },
    {
      "cell_type": "markdown",
      "metadata": {},
      "source": [
        "### Datos de color"
      ]
    },
    {
      "cell_type": "code",
      "execution_count": 28,
      "metadata": {},
      "outputs": [
        {
          "data": {
            "image/png": "[encoded data removed]",
            "text/plain": [
              "<Figure size 640x480 with 1 Axes>"
            ]
          },
          "metadata": {},
          "output_type": "display_data"
        }
      ],
      "source": [
        "# Calcula el número total de valores (nulos y no nulos)\n",
        "total_valores = np.product(weather_data.shape)\n",
        "\n",
        "# Calcula el número de valores nulos\n",
        "valores_nulos = weather_data.isnull().sum().sum()\n",
        "\n",
        "# Calcula el número de valores no nulos\n",
        "valores_no_nulos = total_valores - valores_nulos\n",
        "\n",
        "# Crea una lista con los valores para el gráfico\n",
        "datos = [valores_nulos, valores_no_nulos]\n",
        "\n",
        "# Crea una lista con las etiquetas para el gráfico\n",
        "etiquetas = ['Valores Nulos', 'Valores No Nulos']\n",
        "\n",
        "colors = sns.color_palette(\"pastel\")\n",
        "\n",
        "plt.pie(datos, labels=etiquetas, colors=colors, autopct='%.0f%%')\n",
        "plt.show()"
      ]
    },
    {
      "cell_type": "code",
      "execution_count": 29,
      "metadata": {},
      "outputs": [
        {
          "data": {
            "image/png": "[encoded data removed]",
            "text/plain": [
              "<Figure size 640x480 with 1 Axes>"
            ]
          },
          "metadata": {},
          "output_type": "display_data"
        }
      ],
      "source": [
        "# Calcula el número de valores que son de tipo int64\n",
        "valores_int64 = (weather_data.dtypes == 'int64').sum()\n",
        "\n",
        "# Calcula el número de valores que son de tipo float64\n",
        "valores_float64 = (weather_data.dtypes == 'float64').sum()\n",
        "\n",
        "# Calcula el número de valores que son de tipo object\n",
        "valores_object = (weather_data.dtypes == 'object').sum()\n",
        "\n",
        "# Crea una lista con los valores para el gráfico\n",
        "datos = [valores_int64, valores_float64, valores_object]\n",
        "\n",
        "# Crea una lista con las etiquetas para el gráfico\n",
        "etiquetas = ['valores_int64', 'Valores float64', 'Valores object']\n",
        "\n",
        "colors = sns.color_palette(\"pastel\")\n",
        "\n",
        "plt.pie(datos, labels=etiquetas, colors=colors, autopct='%.0f%%')\n",
        "plt.show()"
      ]
    },
    {
      "cell_type": "markdown",
      "metadata": {},
      "source": [
        "### Location"
      ]
    },
    {
      "cell_type": "code",
      "execution_count": 30,
      "metadata": {},
      "outputs": [
        {
          "data": {
            "image/png": "[encoded data removed]",
            "text/plain": [
              "<Figure size 2000x500 with 2 Axes>"
            ]
          },
          "metadata": {},
          "output_type": "display_data"
        }
      ],
      "source": [
        "fig, axs = plt.subplots(1, 2, figsize=(20, 5))\n",
        "\n",
        "# Histograma\n",
        "sns.histplot(weather_data['Location'], kde=True, ax=axs[0])\n",
        "axs[0].set_title('Histograma de Location')\n",
        "axs[0].set_xlabel('Ubicaciones')\n",
        "axs[0].set_ylabel('Frecuencia')\n",
        "\n",
        "# Boxplot\n",
        "sns.boxplot(x=weather_data['Location'], ax=axs[1])\n",
        "axs[1].set_title('Boxplot de Location')\n",
        "\n",
        "plt.tight_layout()\n",
        "plt.show()\n"
      ]
    },
    {
      "cell_type": "markdown",
      "metadata": {},
      "source": [
        "### MinTemp"
      ]
    },
    {
      "cell_type": "code",
      "execution_count": 18,
      "metadata": {},
      "outputs": [
        {
          "data": {
            "image/png": "[encoded data removed]",
            "text/plain": [
              "<Figure size 2000x500 with 2 Axes>"
            ]
          },
          "metadata": {},
          "output_type": "display_data"
        }
      ],
      "source": [
        "fig, axs = plt.subplots(1, 2, figsize=(20, 5))\n",
        "\n",
        "# Histograma\n",
        "sns.histplot(weather_data['MinTemp'], kde=True, ax=axs[0])\n",
        "axs[0].set_title('Histograma de MinTemp')\n",
        "axs[0].set_xlabel('Temperatura mínima')\n",
        "axs[0].set_ylabel('Frecuencia')\n",
        "\n",
        "# Boxplot\n",
        "sns.boxplot(x=weather_data['MinTemp'], ax=axs[1])\n",
        "axs[1].set_title('Boxplot de MinTemp')\n",
        "axs[1].set_xlabel('Temperatura mínima')\n",
        "\n",
        "plt.tight_layout()\n",
        "plt.show()\n"
      ]
    },
    {
      "cell_type": "markdown",
      "metadata": {},
      "source": [
        "**Distribución de la temperatura mínima:** El histograma muestra la distribución de las temperaturas mínimas. La curva KDE (Kernel Density Estimate) sugiere una estimación suave de esta distribución. Parece que la mayoría de las temperaturas mínimas se agrupan alrededor de un rango específico, lo que indica una distribución con una tendencia central.\n",
        "\n",
        "**Resumen estadístico de la temperatura mínima:** El boxplot proporciona un resumen estadístico de los datos de temperatura mínima. Muestra la mediana, los cuartiles y no se observan valores atípicos más allá de los bigotes del boxplot. Esto sugiere que los datos de temperatura mínima **no tienen valores extremos significativos**."
      ]
    },
    {
      "cell_type": "markdown",
      "metadata": {},
      "source": [
        "### MaxTemp"
      ]
    },
    {
      "cell_type": "code",
      "execution_count": null,
      "metadata": {},
      "outputs": [],
      "source": [
        "fig, axs = plt.subplots(1, 2, figsize=(20, 5))\n",
        "\n",
        "# Histograma\n",
        "sns.histplot(weather_data['MaxTemp'], kde=True, ax=axs[0])\n",
        "axs[0].set_title('Histograma de MaxTemp')\n",
        "axs[0].set_xlabel('Temperatura mínima')\n",
        "axs[0].set_ylabel('Frecuencia')\n",
        "\n",
        "# Boxplot\n",
        "sns.boxplot(x=weather_data['MaxTemp'], ax=axs[1])\n",
        "axs[1].set_title('Boxplot de MaxTemp')\n",
        "axs[1].set_xlabel('Temperatura mínima')\n",
        "\n",
        "plt.tight_layout()\n",
        "plt.show()\n"
      ]
    },
    {
      "cell_type": "markdown",
      "metadata": {},
      "source": [
        "**Distribución de la temperatura máxima:** El histograma muestra la distribución de las temperaturas máximas. La curva KDE (Kernel Density Estimate) sugiere una estimación suave de esta distribución. Parece que la mayoría de las temperaturas máximas se agrupan alrededor de un rango específico, lo que indica una distribución con una tendencia central.\n",
        "\n",
        "**Resumen estadístico de la temperatura máxima:** El boxplot proporciona un resumen estadístico de los datos de temperatura máxima. Muestra la mediana, los cuartiles y no se observan valores atípicos más allá de los bigotes del boxplot. Esto sugiere que los datos de temperatura máxima no tienen valores extremos significativos."
      ]
    },
    {
      "cell_type": "markdown",
      "metadata": {},
      "source": [
        "### Rainfall"
      ]
    },
    {
      "cell_type": "code",
      "execution_count": null,
      "metadata": {},
      "outputs": [],
      "source": [
        "fig, axs = plt.subplots(1, 2, figsize=(20, 5))\n",
        "\n",
        "# Histograma\n",
        "sns.histplot(weather_data['Rainfall'], kde=True, ax=axs[0])\n",
        "axs[0].set_title('Histograma de Rainfall')\n",
        "axs[0].set_xlabel('Temperatura mínima')\n",
        "axs[0].set_ylabel('Frecuencia')\n",
        "\n",
        "# Boxplot\n",
        "sns.boxplot(x=weather_data['Rainfall'], ax=axs[1])\n",
        "axs[1].set_title('Boxplot de Rainfall')\n",
        "axs[1].set_xlabel('Temperatura mínima')\n",
        "\n",
        "plt.tight_layout()\n",
        "plt.show()\n"
      ]
    },
    {
      "cell_type": "markdown",
      "metadata": {},
      "source": [
        "### Evaporation"
      ]
    },
    {
      "cell_type": "code",
      "execution_count": null,
      "metadata": {},
      "outputs": [],
      "source": [
        "fig, axs = plt.subplots(1, 2, figsize=(20, 5))\n",
        "\n",
        "# Histograma\n",
        "sns.histplot(weather_data['Rainfall'], kde=True, ax=axs[0])\n",
        "axs[0].set_title('Histograma de Rainfall')\n",
        "axs[0].set_xlabel('Temperatura mínima')\n",
        "axs[0].set_ylabel('Frecuencia')\n",
        "\n",
        "# Boxplot\n",
        "sns.boxplot(x=weather_data['Rainfall'], ax=axs[1])\n",
        "axs[1].set_title('Boxplot de Rainfall')\n",
        "axs[1].set_xlabel('Temperatura mínima')\n",
        "\n",
        "plt.tight_layout()\n",
        "plt.show()\n"
      ]
    },
    {
      "cell_type": "markdown",
      "metadata": {},
      "source": [
        "### Sunshine"
      ]
    },
    {
      "cell_type": "code",
      "execution_count": null,
      "metadata": {},
      "outputs": [],
      "source": [
        "fig, axs = plt.subplots(1, 2, figsize=(20, 5))\n",
        "\n",
        "# Histograma\n",
        "sns.histplot(weather_data['Rainfall'], kde=True, ax=axs[0])\n",
        "axs[0].set_title('Histograma de Rainfall')\n",
        "axs[0].set_xlabel('Temperatura mínima')\n",
        "axs[0].set_ylabel('Frecuencia')\n",
        "\n",
        "# Boxplot\n",
        "sns.boxplot(x=weather_data['Rainfall'], ax=axs[1])\n",
        "axs[1].set_title('Boxplot de Rainfall')\n",
        "axs[1].set_xlabel('Temperatura mínima')\n",
        "\n",
        "plt.tight_layout()\n",
        "plt.show()\n"
      ]
    },
    {
      "cell_type": "markdown",
      "metadata": {},
      "source": [
        "### WindGustDir"
      ]
    },
    {
      "cell_type": "code",
      "execution_count": null,
      "metadata": {},
      "outputs": [],
      "source": [
        "fig, axs = plt.subplots(1, 2, figsize=(20, 5))\n",
        "\n",
        "# Histograma\n",
        "sns.histplot(weather_data['Rainfall'], kde=True, ax=axs[0])\n",
        "axs[0].set_title('Histograma de Rainfall')\n",
        "axs[0].set_xlabel('Temperatura mínima')\n",
        "axs[0].set_ylabel('Frecuencia')\n",
        "\n",
        "# Boxplot\n",
        "sns.boxplot(x=weather_data['Rainfall'], ax=axs[1])\n",
        "axs[1].set_title('Boxplot de Rainfall')\n",
        "axs[1].set_xlabel('Temperatura mínima')\n",
        "\n",
        "plt.tight_layout()\n",
        "plt.show()\n"
      ]
    },
    {
      "cell_type": "markdown",
      "metadata": {},
      "source": [
        "### WindGustSpeed"
      ]
    },
    {
      "cell_type": "code",
      "execution_count": null,
      "metadata": {},
      "outputs": [],
      "source": [
        "fig, axs = plt.subplots(1, 2, figsize=(20, 5))\n",
        "\n",
        "# Histograma\n",
        "sns.histplot(weather_data['Rainfall'], kde=True, ax=axs[0])\n",
        "axs[0].set_title('Histograma de Rainfall')\n",
        "axs[0].set_xlabel('Temperatura mínima')\n",
        "axs[0].set_ylabel('Frecuencia')\n",
        "\n",
        "# Boxplot\n",
        "sns.boxplot(x=weather_data['Rainfall'], ax=axs[1])\n",
        "axs[1].set_title('Boxplot de Rainfall')\n",
        "axs[1].set_xlabel('Temperatura mínima')\n",
        "\n",
        "plt.tight_layout()\n",
        "plt.show()\n"
      ]
    },
    {
      "cell_type": "markdown",
      "metadata": {},
      "source": [
        "### WindDir9am"
      ]
    },
    {
      "cell_type": "code",
      "execution_count": null,
      "metadata": {},
      "outputs": [],
      "source": [
        "fig, axs = plt.subplots(1, 2, figsize=(20, 5))\n",
        "\n",
        "# Histograma\n",
        "sns.histplot(weather_data['Rainfall'], kde=True, ax=axs[0])\n",
        "axs[0].set_title('Histograma de Rainfall')\n",
        "axs[0].set_xlabel('Temperatura mínima')\n",
        "axs[0].set_ylabel('Frecuencia')\n",
        "\n",
        "# Boxplot\n",
        "sns.boxplot(x=weather_data['Rainfall'], ax=axs[1])\n",
        "axs[1].set_title('Boxplot de Rainfall')\n",
        "axs[1].set_xlabel('Temperatura mínima')\n",
        "\n",
        "plt.tight_layout()\n",
        "plt.show()\n"
      ]
    },
    {
      "cell_type": "markdown",
      "metadata": {},
      "source": [
        "### WindDir3pm"
      ]
    },
    {
      "cell_type": "code",
      "execution_count": null,
      "metadata": {},
      "outputs": [],
      "source": [
        "fig, axs = plt.subplots(1, 2, figsize=(20, 5))\n",
        "\n",
        "# Histograma\n",
        "sns.histplot(weather_data['Rainfall'], kde=True, ax=axs[0])\n",
        "axs[0].set_title('Histograma de Rainfall')\n",
        "axs[0].set_xlabel('Temperatura mínima')\n",
        "axs[0].set_ylabel('Frecuencia')\n",
        "\n",
        "# Boxplot\n",
        "sns.boxplot(x=weather_data['Rainfall'], ax=axs[1])\n",
        "axs[1].set_title('Boxplot de Rainfall')\n",
        "axs[1].set_xlabel('Temperatura mínima')\n",
        "\n",
        "plt.tight_layout()\n",
        "plt.show()\n"
      ]
    },
    {
      "cell_type": "markdown",
      "metadata": {},
      "source": [
        "### WindSpeed9am"
      ]
    },
    {
      "cell_type": "code",
      "execution_count": null,
      "metadata": {},
      "outputs": [],
      "source": [
        "fig, axs = plt.subplots(1, 2, figsize=(20, 5))\n",
        "\n",
        "# Histograma\n",
        "sns.histplot(weather_data['Rainfall'], kde=True, ax=axs[0])\n",
        "axs[0].set_title('Histograma de Rainfall')\n",
        "axs[0].set_xlabel('Temperatura mínima')\n",
        "axs[0].set_ylabel('Frecuencia')\n",
        "\n",
        "# Boxplot\n",
        "sns.boxplot(x=weather_data['Rainfall'], ax=axs[1])\n",
        "axs[1].set_title('Boxplot de Rainfall')\n",
        "axs[1].set_xlabel('Temperatura mínima')\n",
        "\n",
        "plt.tight_layout()\n",
        "plt.show()\n"
      ]
    },
    {
      "cell_type": "markdown",
      "metadata": {},
      "source": [
        "### WindSpeed3pm"
      ]
    },
    {
      "cell_type": "code",
      "execution_count": null,
      "metadata": {},
      "outputs": [],
      "source": [
        "fig, axs = plt.subplots(1, 2, figsize=(20, 5))\n",
        "\n",
        "# Histograma\n",
        "sns.histplot(weather_data['Rainfall'], kde=True, ax=axs[0])\n",
        "axs[0].set_title('Histograma de Rainfall')\n",
        "axs[0].set_xlabel('Temperatura mínima')\n",
        "axs[0].set_ylabel('Frecuencia')\n",
        "\n",
        "# Boxplot\n",
        "sns.boxplot(x=weather_data['Rainfall'], ax=axs[1])\n",
        "axs[1].set_title('Boxplot de Rainfall')\n",
        "axs[1].set_xlabel('Temperatura mínima')\n",
        "\n",
        "plt.tight_layout()\n",
        "plt.show()\n"
      ]
    },
    {
      "cell_type": "markdown",
      "metadata": {},
      "source": [
        "### Humidity9am"
      ]
    },
    {
      "cell_type": "code",
      "execution_count": null,
      "metadata": {},
      "outputs": [],
      "source": [
        "fig, axs = plt.subplots(1, 2, figsize=(20, 5))\n",
        "\n",
        "# Histograma\n",
        "sns.histplot(weather_data['Rainfall'], kde=True, ax=axs[0])\n",
        "axs[0].set_title('Histograma de Rainfall')\n",
        "axs[0].set_xlabel('Temperatura mínima')\n",
        "axs[0].set_ylabel('Frecuencia')\n",
        "\n",
        "# Boxplot\n",
        "sns.boxplot(x=weather_data['Rainfall'], ax=axs[1])\n",
        "axs[1].set_title('Boxplot de Rainfall')\n",
        "axs[1].set_xlabel('Temperatura mínima')\n",
        "\n",
        "plt.tight_layout()\n",
        "plt.show()\n"
      ]
    },
    {
      "cell_type": "markdown",
      "metadata": {},
      "source": [
        "### Humidity3pm"
      ]
    },
    {
      "cell_type": "code",
      "execution_count": null,
      "metadata": {},
      "outputs": [],
      "source": [
        "fig, axs = plt.subplots(1, 2, figsize=(20, 5))\n",
        "\n",
        "# Histograma\n",
        "sns.histplot(weather_data['Rainfall'], kde=True, ax=axs[0])\n",
        "axs[0].set_title('Histograma de Rainfall')\n",
        "axs[0].set_xlabel('Temperatura mínima')\n",
        "axs[0].set_ylabel('Frecuencia')\n",
        "\n",
        "# Boxplot\n",
        "sns.boxplot(x=weather_data['Rainfall'], ax=axs[1])\n",
        "axs[1].set_title('Boxplot de Rainfall')\n",
        "axs[1].set_xlabel('Temperatura mínima')\n",
        "\n",
        "plt.tight_layout()\n",
        "plt.show()\n"
      ]
    },
    {
      "cell_type": "markdown",
      "metadata": {},
      "source": [
        "### Pressure9am"
      ]
    },
    {
      "cell_type": "code",
      "execution_count": null,
      "metadata": {},
      "outputs": [],
      "source": [
        "fig, axs = plt.subplots(1, 2, figsize=(20, 5))\n",
        "\n",
        "# Histograma\n",
        "sns.histplot(weather_data['Rainfall'], kde=True, ax=axs[0])\n",
        "axs[0].set_title('Histograma de Rainfall')\n",
        "axs[0].set_xlabel('Temperatura mínima')\n",
        "axs[0].set_ylabel('Frecuencia')\n",
        "\n",
        "# Boxplot\n",
        "sns.boxplot(x=weather_data['Rainfall'], ax=axs[1])\n",
        "axs[1].set_title('Boxplot de Rainfall')\n",
        "axs[1].set_xlabel('Temperatura mínima')\n",
        "\n",
        "plt.tight_layout()\n",
        "plt.show()\n"
      ]
    },
    {
      "cell_type": "markdown",
      "metadata": {},
      "source": [
        "### Pressure3pm"
      ]
    },
    {
      "cell_type": "code",
      "execution_count": null,
      "metadata": {},
      "outputs": [],
      "source": [
        "fig, axs = plt.subplots(1, 2, figsize=(20, 5))\n",
        "\n",
        "# Histograma\n",
        "sns.histplot(weather_data['Rainfall'], kde=True, ax=axs[0])\n",
        "axs[0].set_title('Histograma de Rainfall')\n",
        "axs[0].set_xlabel('Temperatura mínima')\n",
        "axs[0].set_ylabel('Frecuencia')\n",
        "\n",
        "# Boxplot\n",
        "sns.boxplot(x=weather_data['Rainfall'], ax=axs[1])\n",
        "axs[1].set_title('Boxplot de Rainfall')\n",
        "axs[1].set_xlabel('Temperatura mínima')\n",
        "\n",
        "plt.tight_layout()\n",
        "plt.show()\n"
      ]
    },
    {
      "cell_type": "markdown",
      "metadata": {},
      "source": [
        "### Cloud9am"
      ]
    },
    {
      "cell_type": "code",
      "execution_count": null,
      "metadata": {},
      "outputs": [],
      "source": [
        "fig, axs = plt.subplots(1, 2, figsize=(20, 5))\n",
        "\n",
        "# Histograma\n",
        "sns.histplot(weather_data['Rainfall'], kde=True, ax=axs[0])\n",
        "axs[0].set_title('Histograma de Rainfall')\n",
        "axs[0].set_xlabel('Temperatura mínima')\n",
        "axs[0].set_ylabel('Frecuencia')\n",
        "\n",
        "# Boxplot\n",
        "sns.boxplot(x=weather_data['Rainfall'], ax=axs[1])\n",
        "axs[1].set_title('Boxplot de Rainfall')\n",
        "axs[1].set_xlabel('Temperatura mínima')\n",
        "\n",
        "plt.tight_layout()\n",
        "plt.show()\n"
      ]
    },
    {
      "cell_type": "markdown",
      "metadata": {},
      "source": [
        "### Cloud3pm"
      ]
    },
    {
      "cell_type": "code",
      "execution_count": null,
      "metadata": {},
      "outputs": [],
      "source": [
        "fig, axs = plt.subplots(1, 2, figsize=(20, 5))\n",
        "\n",
        "# Histograma\n",
        "sns.histplot(weather_data['Rainfall'], kde=True, ax=axs[0])\n",
        "axs[0].set_title('Histograma de Rainfall')\n",
        "axs[0].set_xlabel('Temperatura mínima')\n",
        "axs[0].set_ylabel('Frecuencia')\n",
        "\n",
        "# Boxplot\n",
        "sns.boxplot(x=weather_data['Rainfall'], ax=axs[1])\n",
        "axs[1].set_title('Boxplot de Rainfall')\n",
        "axs[1].set_xlabel('Temperatura mínima')\n",
        "\n",
        "plt.tight_layout()\n",
        "plt.show()\n"
      ]
    },
    {
      "cell_type": "markdown",
      "metadata": {},
      "source": [
        "### Temp9am"
      ]
    },
    {
      "cell_type": "code",
      "execution_count": null,
      "metadata": {},
      "outputs": [],
      "source": [
        "fig, axs = plt.subplots(1, 2, figsize=(20, 5))\n",
        "\n",
        "# Histograma\n",
        "sns.histplot(weather_data['Rainfall'], kde=True, ax=axs[0])\n",
        "axs[0].set_title('Histograma de Rainfall')\n",
        "axs[0].set_xlabel('Temperatura mínima')\n",
        "axs[0].set_ylabel('Frecuencia')\n",
        "\n",
        "# Boxplot\n",
        "sns.boxplot(x=weather_data['Rainfall'], ax=axs[1])\n",
        "axs[1].set_title('Boxplot de Rainfall')\n",
        "axs[1].set_xlabel('Temperatura mínima')\n",
        "\n",
        "plt.tight_layout()\n",
        "plt.show()\n"
      ]
    },
    {
      "cell_type": "markdown",
      "metadata": {},
      "source": [
        "### Temp3pm"
      ]
    },
    {
      "cell_type": "code",
      "execution_count": null,
      "metadata": {},
      "outputs": [],
      "source": [
        "fig, axs = plt.subplots(1, 2, figsize=(20, 5))\n",
        "\n",
        "# Histograma\n",
        "sns.histplot(weather_data['Rainfall'], kde=True, ax=axs[0])\n",
        "axs[0].set_title('Histograma de Rainfall')\n",
        "axs[0].set_xlabel('Temperatura mínima')\n",
        "axs[0].set_ylabel('Frecuencia')\n",
        "\n",
        "# Boxplot\n",
        "sns.boxplot(x=weather_data['Rainfall'], ax=axs[1])\n",
        "axs[1].set_title('Boxplot de Rainfall')\n",
        "axs[1].set_xlabel('Temperatura mínima')\n",
        "\n",
        "plt.tight_layout()\n",
        "plt.show()"
      ]
    },
    {
      "cell_type": "markdown",
      "metadata": {},
      "source": [
        "### RainToday"
      ]
    },
    {
      "cell_type": "code",
      "execution_count": null,
      "metadata": {},
      "outputs": [],
      "source": [
        "fig, axs = plt.subplots(1, 2, figsize=(20, 5))\n",
        "\n",
        "# Histograma\n",
        "sns.histplot(weather_data['MinTemp'], kde=True, ax=axs[0])\n",
        "axs[0].set_title('Histograma de MinTemp')\n",
        "axs[0].set_xlabel('Temperatura mínima')\n",
        "axs[0].set_ylabel('Frecuencia')\n",
        "\n",
        "# Boxplot\n",
        "sns.boxplot(x=weather_data['MinTemp'], ax=axs[1])\n",
        "axs[1].set_title('Boxplot de MinTemp')\n",
        "axs[1].set_xlabel('Temperatura mínima')\n",
        "\n",
        "plt.tight_layout()\n",
        "plt.show()\n"
      ]
    },
    {
      "cell_type": "markdown",
      "metadata": {},
      "source": [
        "### RainTomorrow"
      ]
    },
    {
      "cell_type": "code",
      "execution_count": null,
      "metadata": {},
      "outputs": [],
      "source": [
        "fig, axs = plt.subplots(1, 2, figsize=(20, 5))\n",
        "\n",
        "# Histograma\n",
        "sns.histplot(weather_data['MinTemp'], kde=True, ax=axs[0])\n",
        "axs[0].set_title('Histograma de MinTemp')\n",
        "axs[0].set_xlabel('Temperatura mínima')\n",
        "axs[0].set_ylabel('Frecuencia')\n",
        "\n",
        "# Boxplot\n",
        "sns.boxplot(x=weather_data['MinTemp'], ax=axs[1])\n",
        "axs[1].set_title('Boxplot de MinTemp')\n",
        "axs[1].set_xlabel('Temperatura mínima')\n",
        "\n",
        "plt.tight_layout()\n",
        "plt.show()\n"
      ]
    },
    {
      "cell_type": "markdown",
      "metadata": {},
      "source": [
        "### RainfallTomorrow"
      ]
    },
    {
      "cell_type": "code",
      "execution_count": null,
      "metadata": {},
      "outputs": [],
      "source": [
        "fig, axs = plt.subplots(1, 2, figsize=(20, 5))\n",
        "\n",
        "# Histograma\n",
        "sns.histplot(weather_data['RainfallTomorrow'], kde=True, ax=axs[0])\n",
        "axs[0].set_title('Histograma de RainfallTomorrow')\n",
        "axs[0].set_xlabel('Temperatura mínima')\n",
        "axs[0].set_ylabel('Frecuencia')\n",
        "\n",
        "# Boxplot\n",
        "sns.boxplot(x=weather_data['RainfallTomorrow'], ax=axs[1])\n",
        "axs[1].set_title('Boxplot de RainfallTomorrow')\n",
        "axs[1].set_xlabel('Temperatura mínima')\n",
        "\n",
        "plt.tight_layout()\n",
        "plt.show()"
      ]
    },
    {
      "cell_type": "markdown",
      "metadata": {},
      "source": [
        "## Conclusiones "
      ]
    },
    {
      "cell_type": "markdown",
      "metadata": {
        "id": "bb5EG7aTj6Jg"
      },
      "source": [
        "# Reducción de dimensionalidad"
      ]
    },
    {
      "cell_type": "markdown",
      "metadata": {
        "id": "mS1ueOeckQqc"
      },
      "source": [
        "Eliminamos las localidades que no nos interesan predecir"
      ]
    },
    {
      "cell_type": "code",
      "execution_count": 9,
      "metadata": {
        "id": "-8UdXvkIkbDb"
      },
      "outputs": [],
      "source": [
        "# Lista de ubicaciones deseadas\n",
        "ubicaciones_deseadas = ['Adelaide', 'Canberra', 'Cobar', 'Dartmoor', 'Melbourne', 'MelbourneAirport', 'MountGambier', 'Sydney', 'SydneyAirport']\n",
        "\n",
        "# Filtra el DataFrame para que solo contenga las ubicaciones deseadas\n",
        "weather_data = weather_data[weather_data['Location'].isin(ubicaciones_deseadas)]"
      ]
    },
    {
      "cell_type": "markdown",
      "metadata": {
        "id": "R7H0bzDkk3KM"
      },
      "source": [
        "Eliminamos las siguientes columnas:\n",
        "- Location: eliminamos esta columna, ya que vamos a tomar las ubicaciones:\n",
        "'Adelaide', 'Canberra', 'Cobar', 'Dartmoor', 'Melbourne', 'MelbourneAirport', 'MountGambier', 'Sydney', 'SydneyAirport' como la si fueran una misma y así simplificar el modelo\n",
        "- Unnamed: 0: Eliminamos esta columna, ya que no aporta nada de información al modelo\n"
      ]
    },
    {
      "cell_type": "code",
      "execution_count": 10,
      "metadata": {
        "colab": {
          "base_uri": "https://localhost:8080/",
          "height": 0
        },
        "id": "2E_Ilz9rmRmP",
        "outputId": "7e674ed4-7a95-41c0-8aad-7a3528417208"
      },
      "outputs": [
        {
          "data": {
            "text/html": [
              "<div>\n",
              "<style scoped>\n",
              "    .dataframe tbody tr th:only-of-type {\n",
              "        vertical-align: middle;\n",
              "    }\n",
              "\n",
              "    .dataframe tbody tr th {\n",
              "        vertical-align: top;\n",
              "    }\n",
              "\n",
              "    .dataframe thead th {\n",
              "        text-align: right;\n",
              "    }\n",
              "</style>\n",
              "<table border=\"1\" class=\"dataframe\">\n",
              "  <thead>\n",
              "    <tr style=\"text-align: right;\">\n",
              "      <th></th>\n",
              "      <th>MinTemp</th>\n",
              "      <th>MaxTemp</th>\n",
              "      <th>Rainfall</th>\n",
              "      <th>Evaporation</th>\n",
              "      <th>Sunshine</th>\n",
              "      <th>WindGustDir</th>\n",
              "      <th>WindGustSpeed</th>\n",
              "      <th>WindDir9am</th>\n",
              "      <th>WindDir3pm</th>\n",
              "      <th>WindSpeed9am</th>\n",
              "      <th>...</th>\n",
              "      <th>Humidity3pm</th>\n",
              "      <th>Pressure9am</th>\n",
              "      <th>Pressure3pm</th>\n",
              "      <th>Cloud9am</th>\n",
              "      <th>Cloud3pm</th>\n",
              "      <th>Temp9am</th>\n",
              "      <th>Temp3pm</th>\n",
              "      <th>RainToday</th>\n",
              "      <th>RainTomorrow</th>\n",
              "      <th>RainfallTomorrow</th>\n",
              "    </tr>\n",
              "  </thead>\n",
              "  <tbody>\n",
              "    <tr>\n",
              "      <th>6047</th>\n",
              "      <td>17.9</td>\n",
              "      <td>35.2</td>\n",
              "      <td>0.0</td>\n",
              "      <td>12.0</td>\n",
              "      <td>12.3</td>\n",
              "      <td>SSW</td>\n",
              "      <td>48.0</td>\n",
              "      <td>ENE</td>\n",
              "      <td>SW</td>\n",
              "      <td>6.0</td>\n",
              "      <td>...</td>\n",
              "      <td>13.0</td>\n",
              "      <td>1006.3</td>\n",
              "      <td>1004.4</td>\n",
              "      <td>2.0</td>\n",
              "      <td>5.0</td>\n",
              "      <td>26.6</td>\n",
              "      <td>33.4</td>\n",
              "      <td>No</td>\n",
              "      <td>No</td>\n",
              "      <td>0.0</td>\n",
              "    </tr>\n",
              "    <tr>\n",
              "      <th>6048</th>\n",
              "      <td>18.4</td>\n",
              "      <td>28.9</td>\n",
              "      <td>0.0</td>\n",
              "      <td>14.8</td>\n",
              "      <td>13.0</td>\n",
              "      <td>S</td>\n",
              "      <td>37.0</td>\n",
              "      <td>SSE</td>\n",
              "      <td>SSE</td>\n",
              "      <td>19.0</td>\n",
              "      <td>...</td>\n",
              "      <td>8.0</td>\n",
              "      <td>1012.9</td>\n",
              "      <td>1012.1</td>\n",
              "      <td>1.0</td>\n",
              "      <td>1.0</td>\n",
              "      <td>20.3</td>\n",
              "      <td>27.0</td>\n",
              "      <td>No</td>\n",
              "      <td>No</td>\n",
              "      <td>0.0</td>\n",
              "    </tr>\n",
              "    <tr>\n",
              "      <th>6049</th>\n",
              "      <td>15.5</td>\n",
              "      <td>34.1</td>\n",
              "      <td>0.0</td>\n",
              "      <td>12.6</td>\n",
              "      <td>13.3</td>\n",
              "      <td>SE</td>\n",
              "      <td>30.0</td>\n",
              "      <td>NaN</td>\n",
              "      <td>N</td>\n",
              "      <td>NaN</td>\n",
              "      <td>...</td>\n",
              "      <td>7.0</td>\n",
              "      <td>NaN</td>\n",
              "      <td>1011.6</td>\n",
              "      <td>NaN</td>\n",
              "      <td>1.0</td>\n",
              "      <td>NaN</td>\n",
              "      <td>32.7</td>\n",
              "      <td>No</td>\n",
              "      <td>No</td>\n",
              "      <td>0.0</td>\n",
              "    </tr>\n",
              "    <tr>\n",
              "      <th>6050</th>\n",
              "      <td>19.4</td>\n",
              "      <td>37.6</td>\n",
              "      <td>0.0</td>\n",
              "      <td>10.8</td>\n",
              "      <td>10.6</td>\n",
              "      <td>NNE</td>\n",
              "      <td>46.0</td>\n",
              "      <td>NNE</td>\n",
              "      <td>NNW</td>\n",
              "      <td>30.0</td>\n",
              "      <td>...</td>\n",
              "      <td>22.0</td>\n",
              "      <td>1012.3</td>\n",
              "      <td>1009.2</td>\n",
              "      <td>1.0</td>\n",
              "      <td>6.0</td>\n",
              "      <td>28.7</td>\n",
              "      <td>34.9</td>\n",
              "      <td>No</td>\n",
              "      <td>No</td>\n",
              "      <td>0.0</td>\n",
              "    </tr>\n",
              "    <tr>\n",
              "      <th>6051</th>\n",
              "      <td>21.9</td>\n",
              "      <td>38.4</td>\n",
              "      <td>0.0</td>\n",
              "      <td>11.4</td>\n",
              "      <td>12.2</td>\n",
              "      <td>WNW</td>\n",
              "      <td>31.0</td>\n",
              "      <td>WNW</td>\n",
              "      <td>WSW</td>\n",
              "      <td>6.0</td>\n",
              "      <td>...</td>\n",
              "      <td>22.0</td>\n",
              "      <td>1012.7</td>\n",
              "      <td>1009.1</td>\n",
              "      <td>1.0</td>\n",
              "      <td>5.0</td>\n",
              "      <td>29.1</td>\n",
              "      <td>35.6</td>\n",
              "      <td>No</td>\n",
              "      <td>No</td>\n",
              "      <td>0.0</td>\n",
              "    </tr>\n",
              "    <tr>\n",
              "      <th>...</th>\n",
              "      <td>...</td>\n",
              "      <td>...</td>\n",
              "      <td>...</td>\n",
              "      <td>...</td>\n",
              "      <td>...</td>\n",
              "      <td>...</td>\n",
              "      <td>...</td>\n",
              "      <td>...</td>\n",
              "      <td>...</td>\n",
              "      <td>...</td>\n",
              "      <td>...</td>\n",
              "      <td>...</td>\n",
              "      <td>...</td>\n",
              "      <td>...</td>\n",
              "      <td>...</td>\n",
              "      <td>...</td>\n",
              "      <td>...</td>\n",
              "      <td>...</td>\n",
              "      <td>...</td>\n",
              "      <td>...</td>\n",
              "      <td>...</td>\n",
              "    </tr>\n",
              "    <tr>\n",
              "      <th>102515</th>\n",
              "      <td>6.2</td>\n",
              "      <td>16.3</td>\n",
              "      <td>0.0</td>\n",
              "      <td>NaN</td>\n",
              "      <td>NaN</td>\n",
              "      <td>N</td>\n",
              "      <td>41.0</td>\n",
              "      <td>N</td>\n",
              "      <td>NW</td>\n",
              "      <td>24.0</td>\n",
              "      <td>...</td>\n",
              "      <td>70.0</td>\n",
              "      <td>1026.3</td>\n",
              "      <td>1024.1</td>\n",
              "      <td>NaN</td>\n",
              "      <td>NaN</td>\n",
              "      <td>8.7</td>\n",
              "      <td>15.5</td>\n",
              "      <td>No</td>\n",
              "      <td>Yes</td>\n",
              "      <td>2.0</td>\n",
              "    </tr>\n",
              "    <tr>\n",
              "      <th>102516</th>\n",
              "      <td>8.7</td>\n",
              "      <td>13.2</td>\n",
              "      <td>2.0</td>\n",
              "      <td>NaN</td>\n",
              "      <td>NaN</td>\n",
              "      <td>S</td>\n",
              "      <td>20.0</td>\n",
              "      <td>NaN</td>\n",
              "      <td>SE</td>\n",
              "      <td>0.0</td>\n",
              "      <td>...</td>\n",
              "      <td>82.0</td>\n",
              "      <td>1029.2</td>\n",
              "      <td>1028.3</td>\n",
              "      <td>NaN</td>\n",
              "      <td>8.0</td>\n",
              "      <td>11.1</td>\n",
              "      <td>12.0</td>\n",
              "      <td>Yes</td>\n",
              "      <td>No</td>\n",
              "      <td>0.0</td>\n",
              "    </tr>\n",
              "    <tr>\n",
              "      <th>102517</th>\n",
              "      <td>7.0</td>\n",
              "      <td>15.7</td>\n",
              "      <td>0.0</td>\n",
              "      <td>NaN</td>\n",
              "      <td>NaN</td>\n",
              "      <td>N</td>\n",
              "      <td>31.0</td>\n",
              "      <td>N</td>\n",
              "      <td>NNW</td>\n",
              "      <td>13.0</td>\n",
              "      <td>...</td>\n",
              "      <td>67.0</td>\n",
              "      <td>1027.0</td>\n",
              "      <td>1022.4</td>\n",
              "      <td>8.0</td>\n",
              "      <td>NaN</td>\n",
              "      <td>10.0</td>\n",
              "      <td>14.9</td>\n",
              "      <td>No</td>\n",
              "      <td>No</td>\n",
              "      <td>0.0</td>\n",
              "    </tr>\n",
              "    <tr>\n",
              "      <th>102518</th>\n",
              "      <td>5.4</td>\n",
              "      <td>16.2</td>\n",
              "      <td>0.0</td>\n",
              "      <td>NaN</td>\n",
              "      <td>NaN</td>\n",
              "      <td>N</td>\n",
              "      <td>37.0</td>\n",
              "      <td>NNW</td>\n",
              "      <td>W</td>\n",
              "      <td>24.0</td>\n",
              "      <td>...</td>\n",
              "      <td>70.0</td>\n",
              "      <td>1017.0</td>\n",
              "      <td>1014.4</td>\n",
              "      <td>8.0</td>\n",
              "      <td>4.0</td>\n",
              "      <td>6.4</td>\n",
              "      <td>14.9</td>\n",
              "      <td>No</td>\n",
              "      <td>Yes</td>\n",
              "      <td>2.2</td>\n",
              "    </tr>\n",
              "    <tr>\n",
              "      <th>102519</th>\n",
              "      <td>4.8</td>\n",
              "      <td>12.3</td>\n",
              "      <td>2.2</td>\n",
              "      <td>NaN</td>\n",
              "      <td>NaN</td>\n",
              "      <td>W</td>\n",
              "      <td>28.0</td>\n",
              "      <td>NNW</td>\n",
              "      <td>W</td>\n",
              "      <td>7.0</td>\n",
              "      <td>...</td>\n",
              "      <td>70.0</td>\n",
              "      <td>1020.0</td>\n",
              "      <td>1018.0</td>\n",
              "      <td>5.0</td>\n",
              "      <td>8.0</td>\n",
              "      <td>8.2</td>\n",
              "      <td>11.5</td>\n",
              "      <td>Yes</td>\n",
              "      <td>No</td>\n",
              "      <td>0.6</td>\n",
              "    </tr>\n",
              "  </tbody>\n",
              "</table>\n",
              "<p>28233 rows × 22 columns</p>\n",
              "</div>"
            ],
            "text/plain": [
              "        MinTemp  MaxTemp  Rainfall  Evaporation  Sunshine WindGustDir  \\\n",
              "6047       17.9     35.2       0.0         12.0      12.3         SSW   \n",
              "6048       18.4     28.9       0.0         14.8      13.0           S   \n",
              "6049       15.5     34.1       0.0         12.6      13.3          SE   \n",
              "6050       19.4     37.6       0.0         10.8      10.6         NNE   \n",
              "6051       21.9     38.4       0.0         11.4      12.2         WNW   \n",
              "...         ...      ...       ...          ...       ...         ...   \n",
              "102515      6.2     16.3       0.0          NaN       NaN           N   \n",
              "102516      8.7     13.2       2.0          NaN       NaN           S   \n",
              "102517      7.0     15.7       0.0          NaN       NaN           N   \n",
              "102518      5.4     16.2       0.0          NaN       NaN           N   \n",
              "102519      4.8     12.3       2.2          NaN       NaN           W   \n",
              "\n",
              "        WindGustSpeed WindDir9am WindDir3pm  WindSpeed9am  ...  Humidity3pm  \\\n",
              "6047             48.0        ENE         SW           6.0  ...         13.0   \n",
              "6048             37.0        SSE        SSE          19.0  ...          8.0   \n",
              "6049             30.0        NaN          N           NaN  ...          7.0   \n",
              "6050             46.0        NNE        NNW          30.0  ...         22.0   \n",
              "6051             31.0        WNW        WSW           6.0  ...         22.0   \n",
              "...               ...        ...        ...           ...  ...          ...   \n",
              "102515           41.0          N         NW          24.0  ...         70.0   \n",
              "102516           20.0        NaN         SE           0.0  ...         82.0   \n",
              "102517           31.0          N        NNW          13.0  ...         67.0   \n",
              "102518           37.0        NNW          W          24.0  ...         70.0   \n",
              "102519           28.0        NNW          W           7.0  ...         70.0   \n",
              "\n",
              "        Pressure9am  Pressure3pm  Cloud9am  Cloud3pm  Temp9am  Temp3pm  \\\n",
              "6047         1006.3       1004.4       2.0       5.0     26.6     33.4   \n",
              "6048         1012.9       1012.1       1.0       1.0     20.3     27.0   \n",
              "6049            NaN       1011.6       NaN       1.0      NaN     32.7   \n",
              "6050         1012.3       1009.2       1.0       6.0     28.7     34.9   \n",
              "6051         1012.7       1009.1       1.0       5.0     29.1     35.6   \n",
              "...             ...          ...       ...       ...      ...      ...   \n",
              "102515       1026.3       1024.1       NaN       NaN      8.7     15.5   \n",
              "102516       1029.2       1028.3       NaN       8.0     11.1     12.0   \n",
              "102517       1027.0       1022.4       8.0       NaN     10.0     14.9   \n",
              "102518       1017.0       1014.4       8.0       4.0      6.4     14.9   \n",
              "102519       1020.0       1018.0       5.0       8.0      8.2     11.5   \n",
              "\n",
              "        RainToday  RainTomorrow RainfallTomorrow  \n",
              "6047           No            No              0.0  \n",
              "6048           No            No              0.0  \n",
              "6049           No            No              0.0  \n",
              "6050           No            No              0.0  \n",
              "6051           No            No              0.0  \n",
              "...           ...           ...              ...  \n",
              "102515         No           Yes              2.0  \n",
              "102516        Yes            No              0.0  \n",
              "102517         No            No              0.0  \n",
              "102518         No           Yes              2.2  \n",
              "102519        Yes            No              0.6  \n",
              "\n",
              "[28233 rows x 22 columns]"
            ]
          },
          "execution_count": 10,
          "metadata": {},
          "output_type": "execute_result"
        }
      ],
      "source": [
        "weather_data = weather_data.drop(['Unnamed: 0', 'Date', 'Location'], axis=1)\n",
        "\n",
        "weather_data"
      ]
    },
    {
      "cell_type": "markdown",
      "metadata": {},
      "source": [
        "# Train y Test"
      ]
    },
    {
      "cell_type": "code",
      "execution_count": 11,
      "metadata": {},
      "outputs": [],
      "source": [
        "# Dividir los datos en conjuntos de entrenamiento y prueba \n",
        "train, test = train_test_split(weather_data, test_size=0.2)"
      ]
    },
    {
      "cell_type": "code",
      "execution_count": 12,
      "metadata": {},
      "outputs": [
        {
          "data": {
            "text/html": [
              "<div>\n",
              "<style scoped>\n",
              "    .dataframe tbody tr th:only-of-type {\n",
              "        vertical-align: middle;\n",
              "    }\n",
              "\n",
              "    .dataframe tbody tr th {\n",
              "        vertical-align: top;\n",
              "    }\n",
              "\n",
              "    .dataframe thead th {\n",
              "        text-align: right;\n",
              "    }\n",
              "</style>\n",
              "<table border=\"1\" class=\"dataframe\">\n",
              "  <thead>\n",
              "    <tr style=\"text-align: right;\">\n",
              "      <th></th>\n",
              "      <th>MinTemp</th>\n",
              "      <th>MaxTemp</th>\n",
              "      <th>Rainfall</th>\n",
              "      <th>Evaporation</th>\n",
              "      <th>Sunshine</th>\n",
              "      <th>WindGustDir</th>\n",
              "      <th>WindGustSpeed</th>\n",
              "      <th>WindDir9am</th>\n",
              "      <th>WindDir3pm</th>\n",
              "      <th>WindSpeed9am</th>\n",
              "      <th>...</th>\n",
              "      <th>Humidity3pm</th>\n",
              "      <th>Pressure9am</th>\n",
              "      <th>Pressure3pm</th>\n",
              "      <th>Cloud9am</th>\n",
              "      <th>Cloud3pm</th>\n",
              "      <th>Temp9am</th>\n",
              "      <th>Temp3pm</th>\n",
              "      <th>RainToday</th>\n",
              "      <th>RainTomorrow</th>\n",
              "      <th>RainfallTomorrow</th>\n",
              "    </tr>\n",
              "  </thead>\n",
              "  <tbody>\n",
              "    <tr>\n",
              "      <th>99048</th>\n",
              "      <td>7.8</td>\n",
              "      <td>25.6</td>\n",
              "      <td>0.0</td>\n",
              "      <td>NaN</td>\n",
              "      <td>NaN</td>\n",
              "      <td>W</td>\n",
              "      <td>24.0</td>\n",
              "      <td>NE</td>\n",
              "      <td>WNW</td>\n",
              "      <td>11.0</td>\n",
              "      <td>...</td>\n",
              "      <td>32.0</td>\n",
              "      <td>1018.7</td>\n",
              "      <td>1015.3</td>\n",
              "      <td>NaN</td>\n",
              "      <td>NaN</td>\n",
              "      <td>19.2</td>\n",
              "      <td>24.1</td>\n",
              "      <td>No</td>\n",
              "      <td>No</td>\n",
              "      <td>0.0</td>\n",
              "    </tr>\n",
              "    <tr>\n",
              "      <th>66236</th>\n",
              "      <td>8.5</td>\n",
              "      <td>21.6</td>\n",
              "      <td>4.8</td>\n",
              "      <td>2.6</td>\n",
              "      <td>12.5</td>\n",
              "      <td>WSW</td>\n",
              "      <td>52.0</td>\n",
              "      <td>WSW</td>\n",
              "      <td>W</td>\n",
              "      <td>26.0</td>\n",
              "      <td>...</td>\n",
              "      <td>30.0</td>\n",
              "      <td>1018.8</td>\n",
              "      <td>1018.7</td>\n",
              "      <td>6.0</td>\n",
              "      <td>5.0</td>\n",
              "      <td>14.2</td>\n",
              "      <td>19.7</td>\n",
              "      <td>Yes</td>\n",
              "      <td>No</td>\n",
              "      <td>0.0</td>\n",
              "    </tr>\n",
              "    <tr>\n",
              "      <th>8323</th>\n",
              "      <td>11.6</td>\n",
              "      <td>14.4</td>\n",
              "      <td>8.6</td>\n",
              "      <td>1.2</td>\n",
              "      <td>NaN</td>\n",
              "      <td>W</td>\n",
              "      <td>33.0</td>\n",
              "      <td>NE</td>\n",
              "      <td>WSW</td>\n",
              "      <td>9.0</td>\n",
              "      <td>...</td>\n",
              "      <td>87.0</td>\n",
              "      <td>1021.3</td>\n",
              "      <td>1019.4</td>\n",
              "      <td>8.0</td>\n",
              "      <td>7.0</td>\n",
              "      <td>11.6</td>\n",
              "      <td>13.5</td>\n",
              "      <td>Yes</td>\n",
              "      <td>Yes</td>\n",
              "      <td>5.0</td>\n",
              "    </tr>\n",
              "    <tr>\n",
              "      <th>35780</th>\n",
              "      <td>11.0</td>\n",
              "      <td>17.4</td>\n",
              "      <td>1.4</td>\n",
              "      <td>1.0</td>\n",
              "      <td>0.8</td>\n",
              "      <td>SW</td>\n",
              "      <td>43.0</td>\n",
              "      <td>W</td>\n",
              "      <td>SE</td>\n",
              "      <td>13.0</td>\n",
              "      <td>...</td>\n",
              "      <td>83.0</td>\n",
              "      <td>1014.2</td>\n",
              "      <td>1013.6</td>\n",
              "      <td>7.0</td>\n",
              "      <td>7.0</td>\n",
              "      <td>14.4</td>\n",
              "      <td>15.3</td>\n",
              "      <td>Yes</td>\n",
              "      <td>Yes</td>\n",
              "      <td>62.8</td>\n",
              "    </tr>\n",
              "    <tr>\n",
              "      <th>48532</th>\n",
              "      <td>13.4</td>\n",
              "      <td>33.9</td>\n",
              "      <td>0.0</td>\n",
              "      <td>NaN</td>\n",
              "      <td>NaN</td>\n",
              "      <td>NNE</td>\n",
              "      <td>30.0</td>\n",
              "      <td>S</td>\n",
              "      <td>ENE</td>\n",
              "      <td>7.0</td>\n",
              "      <td>...</td>\n",
              "      <td>12.0</td>\n",
              "      <td>1022.3</td>\n",
              "      <td>1019.0</td>\n",
              "      <td>NaN</td>\n",
              "      <td>NaN</td>\n",
              "      <td>20.2</td>\n",
              "      <td>33.5</td>\n",
              "      <td>No</td>\n",
              "      <td>No</td>\n",
              "      <td>0.0</td>\n",
              "    </tr>\n",
              "    <tr>\n",
              "      <th>...</th>\n",
              "      <td>...</td>\n",
              "      <td>...</td>\n",
              "      <td>...</td>\n",
              "      <td>...</td>\n",
              "      <td>...</td>\n",
              "      <td>...</td>\n",
              "      <td>...</td>\n",
              "      <td>...</td>\n",
              "      <td>...</td>\n",
              "      <td>...</td>\n",
              "      <td>...</td>\n",
              "      <td>...</td>\n",
              "      <td>...</td>\n",
              "      <td>...</td>\n",
              "      <td>...</td>\n",
              "      <td>...</td>\n",
              "      <td>...</td>\n",
              "      <td>...</td>\n",
              "      <td>...</td>\n",
              "      <td>...</td>\n",
              "      <td>...</td>\n",
              "    </tr>\n",
              "    <tr>\n",
              "      <th>83503</th>\n",
              "      <td>14.4</td>\n",
              "      <td>26.5</td>\n",
              "      <td>0.0</td>\n",
              "      <td>6.4</td>\n",
              "      <td>8.2</td>\n",
              "      <td>SE</td>\n",
              "      <td>33.0</td>\n",
              "      <td>S</td>\n",
              "      <td>SE</td>\n",
              "      <td>9.0</td>\n",
              "      <td>...</td>\n",
              "      <td>48.0</td>\n",
              "      <td>1020.2</td>\n",
              "      <td>1019.5</td>\n",
              "      <td>NaN</td>\n",
              "      <td>NaN</td>\n",
              "      <td>17.2</td>\n",
              "      <td>25.3</td>\n",
              "      <td>No</td>\n",
              "      <td>No</td>\n",
              "      <td>0.0</td>\n",
              "    </tr>\n",
              "    <tr>\n",
              "      <th>7734</th>\n",
              "      <td>10.0</td>\n",
              "      <td>25.2</td>\n",
              "      <td>0.0</td>\n",
              "      <td>8.4</td>\n",
              "      <td>NaN</td>\n",
              "      <td>WSW</td>\n",
              "      <td>44.0</td>\n",
              "      <td>SW</td>\n",
              "      <td>SW</td>\n",
              "      <td>13.0</td>\n",
              "      <td>...</td>\n",
              "      <td>21.0</td>\n",
              "      <td>1014.2</td>\n",
              "      <td>1012.4</td>\n",
              "      <td>1.0</td>\n",
              "      <td>2.0</td>\n",
              "      <td>15.2</td>\n",
              "      <td>23.4</td>\n",
              "      <td>No</td>\n",
              "      <td>No</td>\n",
              "      <td>0.0</td>\n",
              "    </tr>\n",
              "    <tr>\n",
              "      <th>47420</th>\n",
              "      <td>16.1</td>\n",
              "      <td>34.9</td>\n",
              "      <td>0.0</td>\n",
              "      <td>7.0</td>\n",
              "      <td>NaN</td>\n",
              "      <td>NaN</td>\n",
              "      <td>NaN</td>\n",
              "      <td>SE</td>\n",
              "      <td>NNE</td>\n",
              "      <td>6.0</td>\n",
              "      <td>...</td>\n",
              "      <td>25.0</td>\n",
              "      <td>1014.7</td>\n",
              "      <td>1009.0</td>\n",
              "      <td>8.0</td>\n",
              "      <td>1.0</td>\n",
              "      <td>20.4</td>\n",
              "      <td>31.9</td>\n",
              "      <td>No</td>\n",
              "      <td>No</td>\n",
              "      <td>0.0</td>\n",
              "    </tr>\n",
              "    <tr>\n",
              "      <th>33999</th>\n",
              "      <td>15.1</td>\n",
              "      <td>22.5</td>\n",
              "      <td>0.0</td>\n",
              "      <td>3.8</td>\n",
              "      <td>5.9</td>\n",
              "      <td>W</td>\n",
              "      <td>65.0</td>\n",
              "      <td>NW</td>\n",
              "      <td>WSW</td>\n",
              "      <td>11.0</td>\n",
              "      <td>...</td>\n",
              "      <td>36.0</td>\n",
              "      <td>1012.7</td>\n",
              "      <td>1011.7</td>\n",
              "      <td>6.0</td>\n",
              "      <td>2.0</td>\n",
              "      <td>18.8</td>\n",
              "      <td>18.2</td>\n",
              "      <td>No</td>\n",
              "      <td>Yes</td>\n",
              "      <td>3.8</td>\n",
              "    </tr>\n",
              "    <tr>\n",
              "      <th>68670</th>\n",
              "      <td>7.9</td>\n",
              "      <td>14.0</td>\n",
              "      <td>1.6</td>\n",
              "      <td>5.0</td>\n",
              "      <td>8.8</td>\n",
              "      <td>W</td>\n",
              "      <td>65.0</td>\n",
              "      <td>W</td>\n",
              "      <td>W</td>\n",
              "      <td>31.0</td>\n",
              "      <td>...</td>\n",
              "      <td>70.0</td>\n",
              "      <td>1010.5</td>\n",
              "      <td>1012.5</td>\n",
              "      <td>3.0</td>\n",
              "      <td>7.0</td>\n",
              "      <td>9.2</td>\n",
              "      <td>10.8</td>\n",
              "      <td>Yes</td>\n",
              "      <td>Yes</td>\n",
              "      <td>9.6</td>\n",
              "    </tr>\n",
              "  </tbody>\n",
              "</table>\n",
              "<p>5647 rows × 22 columns</p>\n",
              "</div>"
            ],
            "text/plain": [
              "       MinTemp  MaxTemp  Rainfall  Evaporation  Sunshine WindGustDir  \\\n",
              "99048      7.8     25.6       0.0          NaN       NaN           W   \n",
              "66236      8.5     21.6       4.8          2.6      12.5         WSW   \n",
              "8323      11.6     14.4       8.6          1.2       NaN           W   \n",
              "35780     11.0     17.4       1.4          1.0       0.8          SW   \n",
              "48532     13.4     33.9       0.0          NaN       NaN         NNE   \n",
              "...        ...      ...       ...          ...       ...         ...   \n",
              "83503     14.4     26.5       0.0          6.4       8.2          SE   \n",
              "7734      10.0     25.2       0.0          8.4       NaN         WSW   \n",
              "47420     16.1     34.9       0.0          7.0       NaN         NaN   \n",
              "33999     15.1     22.5       0.0          3.8       5.9           W   \n",
              "68670      7.9     14.0       1.6          5.0       8.8           W   \n",
              "\n",
              "       WindGustSpeed WindDir9am WindDir3pm  WindSpeed9am  ...  Humidity3pm  \\\n",
              "99048           24.0         NE        WNW          11.0  ...         32.0   \n",
              "66236           52.0        WSW          W          26.0  ...         30.0   \n",
              "8323            33.0         NE        WSW           9.0  ...         87.0   \n",
              "35780           43.0          W         SE          13.0  ...         83.0   \n",
              "48532           30.0          S        ENE           7.0  ...         12.0   \n",
              "...              ...        ...        ...           ...  ...          ...   \n",
              "83503           33.0          S         SE           9.0  ...         48.0   \n",
              "7734            44.0         SW         SW          13.0  ...         21.0   \n",
              "47420            NaN         SE        NNE           6.0  ...         25.0   \n",
              "33999           65.0         NW        WSW          11.0  ...         36.0   \n",
              "68670           65.0          W          W          31.0  ...         70.0   \n",
              "\n",
              "       Pressure9am  Pressure3pm  Cloud9am  Cloud3pm  Temp9am  Temp3pm  \\\n",
              "99048       1018.7       1015.3       NaN       NaN     19.2     24.1   \n",
              "66236       1018.8       1018.7       6.0       5.0     14.2     19.7   \n",
              "8323        1021.3       1019.4       8.0       7.0     11.6     13.5   \n",
              "35780       1014.2       1013.6       7.0       7.0     14.4     15.3   \n",
              "48532       1022.3       1019.0       NaN       NaN     20.2     33.5   \n",
              "...            ...          ...       ...       ...      ...      ...   \n",
              "83503       1020.2       1019.5       NaN       NaN     17.2     25.3   \n",
              "7734        1014.2       1012.4       1.0       2.0     15.2     23.4   \n",
              "47420       1014.7       1009.0       8.0       1.0     20.4     31.9   \n",
              "33999       1012.7       1011.7       6.0       2.0     18.8     18.2   \n",
              "68670       1010.5       1012.5       3.0       7.0      9.2     10.8   \n",
              "\n",
              "       RainToday  RainTomorrow RainfallTomorrow  \n",
              "99048         No            No              0.0  \n",
              "66236        Yes            No              0.0  \n",
              "8323         Yes           Yes              5.0  \n",
              "35780        Yes           Yes             62.8  \n",
              "48532         No            No              0.0  \n",
              "...          ...           ...              ...  \n",
              "83503         No            No              0.0  \n",
              "7734          No            No              0.0  \n",
              "47420         No            No              0.0  \n",
              "33999         No           Yes              3.8  \n",
              "68670        Yes           Yes              9.6  \n",
              "\n",
              "[5647 rows x 22 columns]"
            ]
          },
          "execution_count": 12,
          "metadata": {},
          "output_type": "execute_result"
        }
      ],
      "source": [
        "test"
      ]
    },
    {
      "cell_type": "code",
      "execution_count": 13,
      "metadata": {},
      "outputs": [
        {
          "data": {
            "text/html": [
              "<div>\n",
              "<style scoped>\n",
              "    .dataframe tbody tr th:only-of-type {\n",
              "        vertical-align: middle;\n",
              "    }\n",
              "\n",
              "    .dataframe tbody tr th {\n",
              "        vertical-align: top;\n",
              "    }\n",
              "\n",
              "    .dataframe thead th {\n",
              "        text-align: right;\n",
              "    }\n",
              "</style>\n",
              "<table border=\"1\" class=\"dataframe\">\n",
              "  <thead>\n",
              "    <tr style=\"text-align: right;\">\n",
              "      <th></th>\n",
              "      <th>MinTemp</th>\n",
              "      <th>MaxTemp</th>\n",
              "      <th>Rainfall</th>\n",
              "      <th>Evaporation</th>\n",
              "      <th>Sunshine</th>\n",
              "      <th>WindGustDir</th>\n",
              "      <th>WindGustSpeed</th>\n",
              "      <th>WindDir9am</th>\n",
              "      <th>WindDir3pm</th>\n",
              "      <th>WindSpeed9am</th>\n",
              "      <th>...</th>\n",
              "      <th>Humidity3pm</th>\n",
              "      <th>Pressure9am</th>\n",
              "      <th>Pressure3pm</th>\n",
              "      <th>Cloud9am</th>\n",
              "      <th>Cloud3pm</th>\n",
              "      <th>Temp9am</th>\n",
              "      <th>Temp3pm</th>\n",
              "      <th>RainToday</th>\n",
              "      <th>RainTomorrow</th>\n",
              "      <th>RainfallTomorrow</th>\n",
              "    </tr>\n",
              "  </thead>\n",
              "  <tbody>\n",
              "    <tr>\n",
              "      <th>8743</th>\n",
              "      <td>9.0</td>\n",
              "      <td>22.1</td>\n",
              "      <td>0.0</td>\n",
              "      <td>3.4</td>\n",
              "      <td>NaN</td>\n",
              "      <td>NNE</td>\n",
              "      <td>33.0</td>\n",
              "      <td>NNE</td>\n",
              "      <td>ENE</td>\n",
              "      <td>19.0</td>\n",
              "      <td>...</td>\n",
              "      <td>29.0</td>\n",
              "      <td>1026.3</td>\n",
              "      <td>1022.6</td>\n",
              "      <td>NaN</td>\n",
              "      <td>NaN</td>\n",
              "      <td>15.6</td>\n",
              "      <td>21.8</td>\n",
              "      <td>No</td>\n",
              "      <td>No</td>\n",
              "      <td>0.0</td>\n",
              "    </tr>\n",
              "    <tr>\n",
              "      <th>64764</th>\n",
              "      <td>3.0</td>\n",
              "      <td>13.4</td>\n",
              "      <td>0.6</td>\n",
              "      <td>2.6</td>\n",
              "      <td>8.0</td>\n",
              "      <td>N</td>\n",
              "      <td>43.0</td>\n",
              "      <td>NNW</td>\n",
              "      <td>NNE</td>\n",
              "      <td>15.0</td>\n",
              "      <td>...</td>\n",
              "      <td>53.0</td>\n",
              "      <td>1023.1</td>\n",
              "      <td>1019.4</td>\n",
              "      <td>6.0</td>\n",
              "      <td>7.0</td>\n",
              "      <td>7.5</td>\n",
              "      <td>12.8</td>\n",
              "      <td>No</td>\n",
              "      <td>No</td>\n",
              "      <td>0.0</td>\n",
              "    </tr>\n",
              "    <tr>\n",
              "      <th>7418</th>\n",
              "      <td>10.9</td>\n",
              "      <td>26.1</td>\n",
              "      <td>0.0</td>\n",
              "      <td>11.0</td>\n",
              "      <td>NaN</td>\n",
              "      <td>S</td>\n",
              "      <td>39.0</td>\n",
              "      <td>S</td>\n",
              "      <td>S</td>\n",
              "      <td>17.0</td>\n",
              "      <td>...</td>\n",
              "      <td>15.0</td>\n",
              "      <td>1016.7</td>\n",
              "      <td>1013.2</td>\n",
              "      <td>0.0</td>\n",
              "      <td>1.0</td>\n",
              "      <td>14.0</td>\n",
              "      <td>24.8</td>\n",
              "      <td>No</td>\n",
              "      <td>No</td>\n",
              "      <td>0.0</td>\n",
              "    </tr>\n",
              "    <tr>\n",
              "      <th>46846</th>\n",
              "      <td>-1.6</td>\n",
              "      <td>14.4</td>\n",
              "      <td>0.0</td>\n",
              "      <td>2.0</td>\n",
              "      <td>8.5</td>\n",
              "      <td>WNW</td>\n",
              "      <td>22.0</td>\n",
              "      <td>ESE</td>\n",
              "      <td>NNW</td>\n",
              "      <td>9.0</td>\n",
              "      <td>...</td>\n",
              "      <td>41.0</td>\n",
              "      <td>1021.1</td>\n",
              "      <td>1018.8</td>\n",
              "      <td>6.0</td>\n",
              "      <td>NaN</td>\n",
              "      <td>4.0</td>\n",
              "      <td>13.9</td>\n",
              "      <td>No</td>\n",
              "      <td>No</td>\n",
              "      <td>0.0</td>\n",
              "    </tr>\n",
              "    <tr>\n",
              "      <th>81376</th>\n",
              "      <td>15.5</td>\n",
              "      <td>36.2</td>\n",
              "      <td>0.0</td>\n",
              "      <td>7.2</td>\n",
              "      <td>12.5</td>\n",
              "      <td>ESE</td>\n",
              "      <td>33.0</td>\n",
              "      <td>SSW</td>\n",
              "      <td>SSW</td>\n",
              "      <td>13.0</td>\n",
              "      <td>...</td>\n",
              "      <td>36.0</td>\n",
              "      <td>1018.8</td>\n",
              "      <td>1017.1</td>\n",
              "      <td>NaN</td>\n",
              "      <td>NaN</td>\n",
              "      <td>20.5</td>\n",
              "      <td>34.5</td>\n",
              "      <td>No</td>\n",
              "      <td>No</td>\n",
              "      <td>0.0</td>\n",
              "    </tr>\n",
              "    <tr>\n",
              "      <th>...</th>\n",
              "      <td>...</td>\n",
              "      <td>...</td>\n",
              "      <td>...</td>\n",
              "      <td>...</td>\n",
              "      <td>...</td>\n",
              "      <td>...</td>\n",
              "      <td>...</td>\n",
              "      <td>...</td>\n",
              "      <td>...</td>\n",
              "      <td>...</td>\n",
              "      <td>...</td>\n",
              "      <td>...</td>\n",
              "      <td>...</td>\n",
              "      <td>...</td>\n",
              "      <td>...</td>\n",
              "      <td>...</td>\n",
              "      <td>...</td>\n",
              "      <td>...</td>\n",
              "      <td>...</td>\n",
              "      <td>...</td>\n",
              "      <td>...</td>\n",
              "    </tr>\n",
              "    <tr>\n",
              "      <th>100662</th>\n",
              "      <td>5.3</td>\n",
              "      <td>21.0</td>\n",
              "      <td>0.0</td>\n",
              "      <td>1.2</td>\n",
              "      <td>7.7</td>\n",
              "      <td>S</td>\n",
              "      <td>31.0</td>\n",
              "      <td>NNE</td>\n",
              "      <td>S</td>\n",
              "      <td>11.0</td>\n",
              "      <td>...</td>\n",
              "      <td>43.0</td>\n",
              "      <td>1024.2</td>\n",
              "      <td>1022.2</td>\n",
              "      <td>7.0</td>\n",
              "      <td>7.0</td>\n",
              "      <td>13.0</td>\n",
              "      <td>19.8</td>\n",
              "      <td>No</td>\n",
              "      <td>No</td>\n",
              "      <td>0.0</td>\n",
              "    </tr>\n",
              "    <tr>\n",
              "      <th>45866</th>\n",
              "      <td>0.0</td>\n",
              "      <td>14.0</td>\n",
              "      <td>0.0</td>\n",
              "      <td>2.4</td>\n",
              "      <td>4.7</td>\n",
              "      <td>WNW</td>\n",
              "      <td>39.0</td>\n",
              "      <td>NNW</td>\n",
              "      <td>WNW</td>\n",
              "      <td>13.0</td>\n",
              "      <td>...</td>\n",
              "      <td>36.0</td>\n",
              "      <td>1027.3</td>\n",
              "      <td>1024.4</td>\n",
              "      <td>7.0</td>\n",
              "      <td>7.0</td>\n",
              "      <td>7.9</td>\n",
              "      <td>12.4</td>\n",
              "      <td>No</td>\n",
              "      <td>No</td>\n",
              "      <td>0.0</td>\n",
              "    </tr>\n",
              "    <tr>\n",
              "      <th>65652</th>\n",
              "      <td>5.6</td>\n",
              "      <td>17.8</td>\n",
              "      <td>0.0</td>\n",
              "      <td>4.0</td>\n",
              "      <td>9.4</td>\n",
              "      <td>SSE</td>\n",
              "      <td>44.0</td>\n",
              "      <td>SE</td>\n",
              "      <td>SSE</td>\n",
              "      <td>24.0</td>\n",
              "      <td>...</td>\n",
              "      <td>49.0</td>\n",
              "      <td>1023.3</td>\n",
              "      <td>1019.1</td>\n",
              "      <td>1.0</td>\n",
              "      <td>5.0</td>\n",
              "      <td>12.1</td>\n",
              "      <td>16.5</td>\n",
              "      <td>No</td>\n",
              "      <td>No</td>\n",
              "      <td>0.0</td>\n",
              "    </tr>\n",
              "    <tr>\n",
              "      <th>47120</th>\n",
              "      <td>10.1</td>\n",
              "      <td>31.3</td>\n",
              "      <td>0.0</td>\n",
              "      <td>6.5</td>\n",
              "      <td>9.6</td>\n",
              "      <td>ENE</td>\n",
              "      <td>24.0</td>\n",
              "      <td>SSE</td>\n",
              "      <td>WNW</td>\n",
              "      <td>7.0</td>\n",
              "      <td>...</td>\n",
              "      <td>17.0</td>\n",
              "      <td>1023.4</td>\n",
              "      <td>1019.4</td>\n",
              "      <td>1.0</td>\n",
              "      <td>NaN</td>\n",
              "      <td>18.3</td>\n",
              "      <td>30.0</td>\n",
              "      <td>No</td>\n",
              "      <td>No</td>\n",
              "      <td>0.0</td>\n",
              "    </tr>\n",
              "    <tr>\n",
              "      <th>6684</th>\n",
              "      <td>2.7</td>\n",
              "      <td>18.8</td>\n",
              "      <td>0.6</td>\n",
              "      <td>5.8</td>\n",
              "      <td>NaN</td>\n",
              "      <td>ESE</td>\n",
              "      <td>33.0</td>\n",
              "      <td>ESE</td>\n",
              "      <td>S</td>\n",
              "      <td>17.0</td>\n",
              "      <td>...</td>\n",
              "      <td>19.0</td>\n",
              "      <td>1026.0</td>\n",
              "      <td>1022.5</td>\n",
              "      <td>1.0</td>\n",
              "      <td>6.0</td>\n",
              "      <td>12.9</td>\n",
              "      <td>18.2</td>\n",
              "      <td>No</td>\n",
              "      <td>No</td>\n",
              "      <td>0.0</td>\n",
              "    </tr>\n",
              "  </tbody>\n",
              "</table>\n",
              "<p>22586 rows × 22 columns</p>\n",
              "</div>"
            ],
            "text/plain": [
              "        MinTemp  MaxTemp  Rainfall  Evaporation  Sunshine WindGustDir  \\\n",
              "8743        9.0     22.1       0.0          3.4       NaN         NNE   \n",
              "64764       3.0     13.4       0.6          2.6       8.0           N   \n",
              "7418       10.9     26.1       0.0         11.0       NaN           S   \n",
              "46846      -1.6     14.4       0.0          2.0       8.5         WNW   \n",
              "81376      15.5     36.2       0.0          7.2      12.5         ESE   \n",
              "...         ...      ...       ...          ...       ...         ...   \n",
              "100662      5.3     21.0       0.0          1.2       7.7           S   \n",
              "45866       0.0     14.0       0.0          2.4       4.7         WNW   \n",
              "65652       5.6     17.8       0.0          4.0       9.4         SSE   \n",
              "47120      10.1     31.3       0.0          6.5       9.6         ENE   \n",
              "6684        2.7     18.8       0.6          5.8       NaN         ESE   \n",
              "\n",
              "        WindGustSpeed WindDir9am WindDir3pm  WindSpeed9am  ...  Humidity3pm  \\\n",
              "8743             33.0        NNE        ENE          19.0  ...         29.0   \n",
              "64764            43.0        NNW        NNE          15.0  ...         53.0   \n",
              "7418             39.0          S          S          17.0  ...         15.0   \n",
              "46846            22.0        ESE        NNW           9.0  ...         41.0   \n",
              "81376            33.0        SSW        SSW          13.0  ...         36.0   \n",
              "...               ...        ...        ...           ...  ...          ...   \n",
              "100662           31.0        NNE          S          11.0  ...         43.0   \n",
              "45866            39.0        NNW        WNW          13.0  ...         36.0   \n",
              "65652            44.0         SE        SSE          24.0  ...         49.0   \n",
              "47120            24.0        SSE        WNW           7.0  ...         17.0   \n",
              "6684             33.0        ESE          S          17.0  ...         19.0   \n",
              "\n",
              "        Pressure9am  Pressure3pm  Cloud9am  Cloud3pm  Temp9am  Temp3pm  \\\n",
              "8743         1026.3       1022.6       NaN       NaN     15.6     21.8   \n",
              "64764        1023.1       1019.4       6.0       7.0      7.5     12.8   \n",
              "7418         1016.7       1013.2       0.0       1.0     14.0     24.8   \n",
              "46846        1021.1       1018.8       6.0       NaN      4.0     13.9   \n",
              "81376        1018.8       1017.1       NaN       NaN     20.5     34.5   \n",
              "...             ...          ...       ...       ...      ...      ...   \n",
              "100662       1024.2       1022.2       7.0       7.0     13.0     19.8   \n",
              "45866        1027.3       1024.4       7.0       7.0      7.9     12.4   \n",
              "65652        1023.3       1019.1       1.0       5.0     12.1     16.5   \n",
              "47120        1023.4       1019.4       1.0       NaN     18.3     30.0   \n",
              "6684         1026.0       1022.5       1.0       6.0     12.9     18.2   \n",
              "\n",
              "        RainToday  RainTomorrow RainfallTomorrow  \n",
              "8743           No            No              0.0  \n",
              "64764          No            No              0.0  \n",
              "7418           No            No              0.0  \n",
              "46846          No            No              0.0  \n",
              "81376          No            No              0.0  \n",
              "...           ...           ...              ...  \n",
              "100662         No            No              0.0  \n",
              "45866          No            No              0.0  \n",
              "65652          No            No              0.0  \n",
              "47120          No            No              0.0  \n",
              "6684           No            No              0.0  \n",
              "\n",
              "[22586 rows x 22 columns]"
            ]
          },
          "execution_count": 13,
          "metadata": {},
          "output_type": "execute_result"
        }
      ],
      "source": [
        "train"
      ]
    },
    {
      "cell_type": "markdown",
      "metadata": {
        "id": "C0zUJl7NUlf3"
      },
      "source": [
        "# Datos faltantes"
      ]
    },
    {
      "cell_type": "markdown",
      "metadata": {},
      "source": [
        "## Eliminación de datos faltantes "
      ]
    },
    {
      "cell_type": "markdown",
      "metadata": {},
      "source": [
        "Verificamos si existen filas que contengan solo valores nulos."
      ]
    },
    {
      "cell_type": "code",
      "execution_count": 14,
      "metadata": {},
      "outputs": [
        {
          "data": {
            "text/plain": [
              "1"
            ]
          },
          "execution_count": 14,
          "metadata": {},
          "output_type": "execute_result"
        }
      ],
      "source": [
        "# Contamos el número total de filas que tengan todos sus valores como nulos en train\n",
        "train_nulas = train.isnull().all(axis=1).sum()\n",
        "\n",
        "train_nulas"
      ]
    },
    {
      "cell_type": "markdown",
      "metadata": {},
      "source": [
        "Vemos que si tiene una fila donde todos sus valores son nulos, así que la eliminamos."
      ]
    },
    {
      "cell_type": "code",
      "execution_count": 15,
      "metadata": {},
      "outputs": [],
      "source": [
        "train = train.dropna(how='all')"
      ]
    },
    {
      "cell_type": "markdown",
      "metadata": {},
      "source": [
        "Verificamos que se haya borrado correctamente y que no queden filas que contengan todos sus valores nulos."
      ]
    },
    {
      "cell_type": "code",
      "execution_count": 16,
      "metadata": {},
      "outputs": [
        {
          "data": {
            "text/plain": [
              "0"
            ]
          },
          "execution_count": 16,
          "metadata": {},
          "output_type": "execute_result"
        }
      ],
      "source": [
        "# Contamos el número total de filas que tengan todos sus valores como nulos en train\n",
        "train_nulas = train.isnull().all(axis=1).sum()\n",
        "\n",
        "train_nulas"
      ]
    },
    {
      "cell_type": "markdown",
      "metadata": {},
      "source": [
        "Hacemos lo mismo con el test"
      ]
    },
    {
      "cell_type": "code",
      "execution_count": 17,
      "metadata": {},
      "outputs": [
        {
          "data": {
            "text/plain": [
              "0"
            ]
          },
          "execution_count": 17,
          "metadata": {},
          "output_type": "execute_result"
        }
      ],
      "source": [
        "# Contamos el número total de filas que tengan todos sus valores como nulos en train\n",
        "test_nulas = test.isnull().all(axis=1).sum()\n",
        "\n",
        "test_nulas"
      ]
    },
    {
      "cell_type": "markdown",
      "metadata": {},
      "source": [
        "Vemos que no tiene una fila donde todos sus valores son nulos, así que hace falta realizar ninguna acción."
      ]
    },
    {
      "cell_type": "markdown",
      "metadata": {
        "id": "ZIEpeymaidWe"
      },
      "source": [
        "## Separación de datos"
      ]
    },
    {
      "cell_type": "markdown",
      "metadata": {
        "id": "r-fLLeIBnqJT"
      },
      "source": [
        "Separamos el Dataframe según sean sus datos continuos o categóricos para un mejor tratamiento de los mismo."
      ]
    },
    {
      "cell_type": "markdown",
      "metadata": {},
      "source": [
        "### Separación de train"
      ]
    },
    {
      "cell_type": "code",
      "execution_count": 31,
      "metadata": {},
      "outputs": [],
      "source": [
        "# Separa las columnas categóricas\n",
        "train_categoricas = train.select_dtypes(include=['object'])"
      ]
    },
    {
      "cell_type": "code",
      "execution_count": 32,
      "metadata": {},
      "outputs": [
        {
          "data": {
            "text/plain": [
              "WindGustDir     object\n",
              "WindDir9am      object\n",
              "WindDir3pm      object\n",
              "RainToday       object\n",
              "RainTomorrow    object\n",
              "dtype: object"
            ]
          },
          "execution_count": 32,
          "metadata": {},
          "output_type": "execute_result"
        }
      ],
      "source": [
        "train_categoricas.dtypes"
      ]
    },
    {
      "cell_type": "code",
      "execution_count": 33,
      "metadata": {},
      "outputs": [],
      "source": [
        "# Separa las columnas continuas\n",
        "train_continuas = train.select_dtypes(include=['float64', 'int64'])"
      ]
    },
    {
      "cell_type": "code",
      "execution_count": 34,
      "metadata": {},
      "outputs": [
        {
          "data": {
            "text/plain": [
              "MinTemp             float64\n",
              "MaxTemp             float64\n",
              "Rainfall            float64\n",
              "Evaporation         float64\n",
              "Sunshine            float64\n",
              "WindGustSpeed       float64\n",
              "WindSpeed9am        float64\n",
              "WindSpeed3pm        float64\n",
              "Humidity9am         float64\n",
              "Humidity3pm         float64\n",
              "Pressure9am         float64\n",
              "Pressure3pm         float64\n",
              "Cloud9am            float64\n",
              "Cloud3pm            float64\n",
              "Temp9am             float64\n",
              "Temp3pm             float64\n",
              "RainfallTomorrow    float64\n",
              "dtype: object"
            ]
          },
          "execution_count": 34,
          "metadata": {},
          "output_type": "execute_result"
        }
      ],
      "source": [
        "train_continuas.dtypes"
      ]
    },
    {
      "cell_type": "markdown",
      "metadata": {},
      "source": [
        "### Separación de test"
      ]
    },
    {
      "cell_type": "code",
      "execution_count": 35,
      "metadata": {
        "id": "CSSy901rrTGD"
      },
      "outputs": [],
      "source": [
        "# Separa las columnas categóricas\n",
        "test_categoricas = test.select_dtypes(include=['object'])"
      ]
    },
    {
      "cell_type": "code",
      "execution_count": 36,
      "metadata": {
        "colab": {
          "base_uri": "https://localhost:8080/"
        },
        "id": "LLBdpDx8q6xN",
        "outputId": "45ae3df1-b07b-4745-87a6-bf28b19443d3"
      },
      "outputs": [
        {
          "data": {
            "text/plain": [
              "WindGustDir     object\n",
              "WindDir9am      object\n",
              "WindDir3pm      object\n",
              "RainToday       object\n",
              "RainTomorrow    object\n",
              "dtype: object"
            ]
          },
          "execution_count": 36,
          "metadata": {},
          "output_type": "execute_result"
        }
      ],
      "source": [
        "test_categoricas.dtypes"
      ]
    },
    {
      "cell_type": "code",
      "execution_count": 37,
      "metadata": {
        "id": "lWZxzUunroBB"
      },
      "outputs": [],
      "source": [
        "# Separa las columnas continuas\n",
        "test_continuas = test.select_dtypes(include=['float64', 'int64'])"
      ]
    },
    {
      "cell_type": "code",
      "execution_count": 38,
      "metadata": {
        "colab": {
          "base_uri": "https://localhost:8080/"
        },
        "id": "HgrNgvOIrp2S",
        "outputId": "8541c28e-decb-41fe-dedb-2da7a155168f"
      },
      "outputs": [
        {
          "data": {
            "text/plain": [
              "MinTemp             float64\n",
              "MaxTemp             float64\n",
              "Rainfall            float64\n",
              "Evaporation         float64\n",
              "Sunshine            float64\n",
              "WindGustSpeed       float64\n",
              "WindSpeed9am        float64\n",
              "WindSpeed3pm        float64\n",
              "Humidity9am         float64\n",
              "Humidity3pm         float64\n",
              "Pressure9am         float64\n",
              "Pressure3pm         float64\n",
              "Cloud9am            float64\n",
              "Cloud3pm            float64\n",
              "Temp9am             float64\n",
              "Temp3pm             float64\n",
              "RainfallTomorrow    float64\n",
              "dtype: object"
            ]
          },
          "execution_count": 38,
          "metadata": {},
          "output_type": "execute_result"
        }
      ],
      "source": [
        "test_continuas.dtypes"
      ]
    },
    {
      "cell_type": "markdown",
      "metadata": {
        "id": "PkdIvlF1vOME"
      },
      "source": [
        "## Completado de datos "
      ]
    },
    {
      "cell_type": "markdown",
      "metadata": {},
      "source": [
        "### Completado de train"
      ]
    },
    {
      "cell_type": "markdown",
      "metadata": {},
      "source": [
        "Verificamos si existen valores faltantes"
      ]
    },
    {
      "cell_type": "code",
      "execution_count": 39,
      "metadata": {},
      "outputs": [
        {
          "data": {
            "text/plain": [
              "WindGustDir     1299\n",
              "WindDir9am      1330\n",
              "WindDir3pm       351\n",
              "RainToday        770\n",
              "RainTomorrow     771\n",
              "dtype: int64"
            ]
          },
          "execution_count": 39,
          "metadata": {},
          "output_type": "execute_result"
        }
      ],
      "source": [
        "train_categoricas.isnull().sum()"
      ]
    },
    {
      "cell_type": "markdown",
      "metadata": {},
      "source": [
        "Vemos que si hay datos faltantes, por lo tanto, rellenamos los datos faltantes con la moda."
      ]
    },
    {
      "cell_type": "code",
      "execution_count": 45,
      "metadata": {},
      "outputs": [],
      "source": [
        "for columna in train_categoricas.columns:\n",
        "    train_categoricas[columna].fillna(train_categoricas[columna].mode()[0], inplace=True)"
      ]
    },
    {
      "cell_type": "markdown",
      "metadata": {},
      "source": [
        "Verificamos que se hayan rellenado los valores faltantes con la moda correctamente y que no queden valores nulos."
      ]
    },
    {
      "cell_type": "code",
      "execution_count": 46,
      "metadata": {},
      "outputs": [
        {
          "data": {
            "text/plain": [
              "WindGustDir     0\n",
              "WindDir9am      0\n",
              "WindDir3pm      0\n",
              "RainToday       0\n",
              "RainTomorrow    0\n",
              "dtype: int64"
            ]
          },
          "execution_count": 46,
          "metadata": {},
          "output_type": "execute_result"
        }
      ],
      "source": [
        "train_categoricas.isnull().sum()"
      ]
    },
    {
      "cell_type": "markdown",
      "metadata": {},
      "source": [
        "Verificamos si existen valores numéricos faltantes."
      ]
    },
    {
      "cell_type": "code",
      "execution_count": 47,
      "metadata": {},
      "outputs": [
        {
          "data": {
            "text/plain": [
              "MinTemp              444\n",
              "MaxTemp              434\n",
              "Rainfall             770\n",
              "Evaporation         3482\n",
              "Sunshine            5385\n",
              "WindGustSpeed       1299\n",
              "WindSpeed9am         287\n",
              "WindSpeed3pm         277\n",
              "Humidity9am          731\n",
              "Humidity3pm          687\n",
              "Pressure9am          666\n",
              "Pressure3pm          654\n",
              "Cloud9am            7516\n",
              "Cloud3pm            7668\n",
              "Temp9am              457\n",
              "Temp3pm              447\n",
              "RainfallTomorrow     771\n",
              "dtype: int64"
            ]
          },
          "execution_count": 47,
          "metadata": {},
          "output_type": "execute_result"
        }
      ],
      "source": [
        "train_continuas.isnull().sum()"
      ]
    },
    {
      "cell_type": "markdown",
      "metadata": {},
      "source": [
        "Rellenamos los datos faltantes con la mediana."
      ]
    },
    {
      "cell_type": "code",
      "execution_count": 48,
      "metadata": {},
      "outputs": [],
      "source": [
        "train_continuas = train_continuas.fillna(train_continuas.median())"
      ]
    },
    {
      "cell_type": "markdown",
      "metadata": {},
      "source": [
        "Verificamos que se hayan rellenado los valores faltantes con la mediana correctamente y que no queden valores nulos."
      ]
    },
    {
      "cell_type": "code",
      "execution_count": 49,
      "metadata": {},
      "outputs": [
        {
          "data": {
            "text/plain": [
              "MinTemp             0\n",
              "MaxTemp             0\n",
              "Rainfall            0\n",
              "Evaporation         0\n",
              "Sunshine            0\n",
              "WindGustSpeed       0\n",
              "WindSpeed9am        0\n",
              "WindSpeed3pm        0\n",
              "Humidity9am         0\n",
              "Humidity3pm         0\n",
              "Pressure9am         0\n",
              "Pressure3pm         0\n",
              "Cloud9am            0\n",
              "Cloud3pm            0\n",
              "Temp9am             0\n",
              "Temp3pm             0\n",
              "RainfallTomorrow    0\n",
              "dtype: int64"
            ]
          },
          "execution_count": 49,
          "metadata": {},
          "output_type": "execute_result"
        }
      ],
      "source": [
        "train_continuas.isnull().sum()"
      ]
    },
    {
      "cell_type": "markdown",
      "metadata": {},
      "source": [
        "### Completado de test"
      ]
    },
    {
      "cell_type": "markdown",
      "metadata": {
        "id": "E_gcikzjzSqE"
      },
      "source": [
        "Verificamos si existen valores categoricos faltantes."
      ]
    },
    {
      "cell_type": "code",
      "execution_count": 40,
      "metadata": {
        "colab": {
          "base_uri": "https://localhost:8080/"
        },
        "id": "HwlA1I08y-qb",
        "outputId": "ab5f9989-9d37-4336-99e6-f5100316bad8"
      },
      "outputs": [
        {
          "data": {
            "text/plain": [
              "WindGustDir     345\n",
              "WindDir9am      317\n",
              "WindDir3pm       85\n",
              "RainToday       215\n",
              "RainTomorrow    213\n",
              "dtype: int64"
            ]
          },
          "execution_count": 40,
          "metadata": {},
          "output_type": "execute_result"
        }
      ],
      "source": [
        "test_categoricas.isnull().sum()"
      ]
    },
    {
      "cell_type": "markdown",
      "metadata": {
        "id": "1wWWHiVf6nQz"
      },
      "source": [
        "Vemos que si hay datos faltantes, por lo tanto, rellenamos los datos faltantes con la moda."
      ]
    },
    {
      "cell_type": "code",
      "execution_count": 41,
      "metadata": {
        "id": "rGIJ8D-FykMP"
      },
      "outputs": [],
      "source": [
        "for columna in test_categoricas.columns:\n",
        "    test_categoricas[columna].fillna(test_categoricas[columna].mode()[0], inplace=True)\n"
      ]
    },
    {
      "cell_type": "markdown",
      "metadata": {},
      "source": [
        "Verificamos que se hayan rellenado los valores faltantes con la moda correctamente y que no queden valores nulos."
      ]
    },
    {
      "cell_type": "code",
      "execution_count": 42,
      "metadata": {
        "colab": {
          "base_uri": "https://localhost:8080/"
        },
        "id": "LO1qF2hVymoE",
        "outputId": "62488e70-40bb-4a20-a2eb-c5e10187a598"
      },
      "outputs": [
        {
          "data": {
            "text/plain": [
              "WindGustDir     0\n",
              "WindDir9am      0\n",
              "WindDir3pm      0\n",
              "RainToday       0\n",
              "RainTomorrow    0\n",
              "dtype: int64"
            ]
          },
          "execution_count": 42,
          "metadata": {},
          "output_type": "execute_result"
        }
      ],
      "source": [
        "test_categoricas.isnull().sum()"
      ]
    },
    {
      "cell_type": "markdown",
      "metadata": {},
      "source": [
        "Verificamos si existen valores numéricos faltantes."
      ]
    },
    {
      "cell_type": "code",
      "execution_count": 43,
      "metadata": {},
      "outputs": [
        {
          "data": {
            "text/plain": [
              "MinTemp              125\n",
              "MaxTemp              123\n",
              "Rainfall             215\n",
              "Evaporation          870\n",
              "Sunshine            1327\n",
              "WindGustSpeed        342\n",
              "WindSpeed9am          70\n",
              "WindSpeed3pm          62\n",
              "Humidity9am          208\n",
              "Humidity3pm          202\n",
              "Pressure9am          172\n",
              "Pressure3pm          174\n",
              "Cloud9am            1850\n",
              "Cloud3pm            1881\n",
              "Temp9am              127\n",
              "Temp3pm              128\n",
              "RainfallTomorrow     213\n",
              "dtype: int64"
            ]
          },
          "execution_count": 43,
          "metadata": {},
          "output_type": "execute_result"
        }
      ],
      "source": [
        "test_continuas.isnull().sum()"
      ]
    },
    {
      "cell_type": "markdown",
      "metadata": {
        "id": "X2dJevy76r4a"
      },
      "source": [
        "Rellenamos los datos faltantes con la mediana."
      ]
    },
    {
      "cell_type": "code",
      "execution_count": 44,
      "metadata": {
        "id": "Xwao7Uxfyvqr"
      },
      "outputs": [],
      "source": [
        "test_continuas = test_continuas.fillna(test_continuas.median())"
      ]
    },
    {
      "cell_type": "markdown",
      "metadata": {},
      "source": [
        "Verificamos que se hayan rellenado los valores faltantes con la mediana correctamente y que no queden valores nulos."
      ]
    },
    {
      "cell_type": "code",
      "execution_count": null,
      "metadata": {
        "colab": {
          "base_uri": "https://localhost:8080/"
        },
        "id": "8OxMBgq0yyHW",
        "outputId": "b4795c3f-ea31-4e82-810f-2255d72c7a80"
      },
      "outputs": [
        {
          "data": {
            "text/plain": [
              "MinTemp             0\n",
              "MaxTemp             0\n",
              "Rainfall            0\n",
              "Evaporation         0\n",
              "Sunshine            0\n",
              "WindGustSpeed       0\n",
              "WindSpeed9am        0\n",
              "WindSpeed3pm        0\n",
              "Humidity9am         0\n",
              "Humidity3pm         0\n",
              "Pressure9am         0\n",
              "Pressure3pm         0\n",
              "Cloud9am            0\n",
              "Cloud3pm            0\n",
              "Temp9am             0\n",
              "Temp3pm             0\n",
              "RainfallTomorrow    0\n",
              "dtype: int64"
            ]
          },
          "execution_count": 63,
          "metadata": {},
          "output_type": "execute_result"
        }
      ],
      "source": [
        "test_continuas.isnull().sum()"
      ]
    },
    {
      "cell_type": "markdown",
      "metadata": {
        "id": "4TY9Pjj_6PI9"
      },
      "source": [
        "Seleccioné la mediana para rellenar los datos faltantes en mi dataframe de variables continuas porque la mediana es una medida de tendencia central que no se ve afectada por los valores extremos o atípicos. En mi conjunto de datos, había algunos valores que eran mucho más altos o bajos que el resto, y si hubiera usado la media para rellenar los datos faltantes, estos valores extremos habrían sesgado la media y distorsionado mis resultados. La mediana, al ser el valor medio de un conjunto de datos ordenado, proporciona una mejor representación del 'valor típico' en mi conjunto de datos, especialmente cuando hay valores atípicos.\n",
        "\n",
        "En cuanto a mi dataframe de variables categóricas, seleccioné la moda para rellenar los datos faltantes porque la moda es la categoría que ocurre con más frecuencia en un conjunto de datos. Dado que las variables categóricas no son numéricas, medidas como la media y la mediana no tienen sentido en este contexto. Al rellenar los datos faltantes con la moda, estoy esencialmente asumiendo que la categoría más común es la más probable de ocurrir en los datos faltantes. Esto puede no ser siempre el caso, pero es una suposición razonable en ausencia de información adicional."
      ]
    },
    {
      "cell_type": "markdown",
      "metadata": {
        "id": "rkjIM34_Ulf5"
      },
      "source": [
        "# Estandarización"
      ]
    },
    {
      "cell_type": "code",
      "execution_count": null,
      "metadata": {
        "id": "2wNToyr27qc2"
      },
      "outputs": [],
      "source": [
        "# Crear el estandarizador\n",
        "scaler = StandardScaler()\n",
        "\n",
        "# Ajustar y transformar los datos\n",
        "columnas_continuas_escaladas = scaler.fit_transform(columnas_continuas)\n",
        "\n",
        "# Convertir el resultado a un DataFrame\n",
        "columnas_continuas_escaladas = pd.DataFrame(columnas_continuas_escaladas, columns=columnas_continuas.columns)"
      ]
    },
    {
      "cell_type": "code",
      "execution_count": null,
      "metadata": {
        "colab": {
          "base_uri": "https://localhost:8080/",
          "height": 0
        },
        "id": "BtHJpY2B8LtU",
        "outputId": "5ef4f6fb-6b4c-49cc-9f94-c0c389973d61"
      },
      "outputs": [],
      "source": [
        "columnas_continuas_escaladas"
      ]
    },
    {
      "cell_type": "markdown",
      "metadata": {
        "id": "br9inSe4UlgH"
      },
      "source": [
        "# One hot enconding (Dummies)"
      ]
    },
    {
      "cell_type": "code",
      "execution_count": null,
      "metadata": {
        "colab": {
          "base_uri": "https://localhost:8080/",
          "height": 424
        },
        "id": "5gxeqioAFhlL",
        "outputId": "7417cb94-14bc-45d0-b249-3a5da16bc958"
      },
      "outputs": [],
      "source": [
        "columnas_categoricas"
      ]
    },
    {
      "cell_type": "markdown",
      "metadata": {
        "id": "G-DUNhq_FKRM"
      },
      "source": [
        "Al tener demasiadas variables categóricas en mi DataFrame, lo que hice fue simplificar la situación agrupándolas. Tenía una columna con direcciones de viento que incluía 16 categorías distintas como 'N', 'NNW', 'NNE', etc. Pero para mi análisis, no necesitaba tanta granularidad, así que decidí agrupar estas 16 categorías en solo 4: 'N', 'S', 'E' y 'W'.\n",
        "\n",
        "Para hacer esto, creé un diccionario que mapeaba cada una de las 16 categorías a una de las 4 direcciones principales. Luego, utilicé la función map de pandas para aplicar este mapeo a mi columna. De esta manera, pude reducir la cantidad de categorías únicas en mi columna de 16 a solo 4, lo que simplificó mucho mi análisis"
      ]
    },
    {
      "cell_type": "code",
      "execution_count": null,
      "metadata": {
        "colab": {
          "base_uri": "https://localhost:8080/",
          "height": 424
        },
        "id": "AwfUgYo0FAnU",
        "outputId": "469ff38e-daa4-450e-f7ce-115013014fa8"
      },
      "outputs": [],
      "source": [
        "diccionario = {\n",
        "    'N': ['N', 'NNW', 'NNE', 'NE', 'NW'],\n",
        "    'S': ['S', 'SSW', 'SSE', 'SE', 'SW'],\n",
        "    'E': ['E', 'ENE', 'ESE'],\n",
        "    'W': ['W', 'WNW', 'WSW'],\n",
        "}\n",
        "\n",
        "# Invertir el diccionario para el mapeo\n",
        "diccionario_invertido = {valor: clave for clave, lista_valores in diccionario.items() for valor in lista_valores}\n",
        "\n",
        "# Aplicar la transformación a WindGustDir\n",
        "columnas_categoricas['WindGustDir'] = columnas_categoricas['WindGustDir'].map(diccionario_invertido)\n",
        "\n",
        "# Aplicar la transformación a WindDir9am\n",
        "columnas_categoricas['WindDir9am'] = columnas_categoricas['WindDir9am'].map(diccionario_invertido)\n",
        "\n",
        "# Aplicar la transformación a WindDir3pm\n",
        "columnas_categoricas['WindDir3pm'] = columnas_categoricas['WindDir3pm'].map(diccionario_invertido)\n",
        "\n",
        "columnas_categoricas\n"
      ]
    },
    {
      "cell_type": "markdown",
      "metadata": {
        "id": "Z69fSzv4Dz1D"
      },
      "source": [
        "Usando la función de pandas get_dummies  aplicará One Hot Encoding a las columnas del Dataframe columnas_categoricas. El resultado será un nuevo DataFrame donde cada valor categórico único en cada columna se convierte en una nueva columna y se codifica como 1 o 0."
      ]
    },
    {
      "cell_type": "code",
      "execution_count": null,
      "metadata": {
        "colab": {
          "base_uri": "https://localhost:8080/",
          "height": 444
        },
        "id": "pOU3eSlxBunc",
        "outputId": "be325657-2b0d-4d14-c75f-13cf11e7fb81"
      },
      "outputs": [],
      "source": [
        "columnas_categoricas_encoded = pd.get_dummies(columnas_categoricas).astype('int64')\n",
        "\n",
        "columnas_categoricas_encoded"
      ]
    },
    {
      "cell_type": "markdown",
      "metadata": {
        "id": "6SZFuGHJHXvO"
      },
      "source": [
        "Elimino las columnas RainTomorrow_No y RainToday_No, ya que son columnas redundantes porque son perfectamente inversas a RainTomorrow_Yes y RainTomorrow_Yes, es decir, si un día tiene un '1' en 'RainTomorrow_No', entonces tiene un '0' en 'RainTomorrow_Yes', y viceversa."
      ]
    },
    {
      "cell_type": "code",
      "execution_count": null,
      "metadata": {
        "colab": {
          "base_uri": "https://localhost:8080/",
          "height": 444
        },
        "id": "FHWVunF4Bwlq",
        "outputId": "51372f6a-d08e-41c4-d6ba-bb5dc377f4b2"
      },
      "outputs": [],
      "source": [
        "columnas_categoricas_encoded = columnas_categoricas_encoded.drop(['RainTomorrow_No', 'RainToday_No'], axis=1)\n",
        "\n",
        "columnas_categoricas_encoded"
      ]
    },
    {
      "cell_type": "markdown",
      "metadata": {},
      "source": [
        "# Matriz de correlación"
      ]
    },
    {
      "cell_type": "markdown",
      "metadata": {
        "id": "UU5L2L3JUlgI"
      },
      "source": [
        "## Matriz de correlación numérica"
      ]
    },
    {
      "cell_type": "code",
      "execution_count": null,
      "metadata": {
        "colab": {
          "base_uri": "https://localhost:8080/",
          "height": 1000
        },
        "id": "FdoLJLEBUlgI",
        "outputId": "ff1d89bb-15df-4249-c877-7cacdbf0ad82"
      },
      "outputs": [],
      "source": [
        "sns.set_theme(style=\"white\")\n",
        "# Compute the correlation matrix\n",
        "corr = columnas_continuas.corr()\n",
        "\n",
        "# Generate a mask for the upper triangle\n",
        "mask = np.triu(np.ones_like(corr, dtype=bool))\n",
        "\n",
        "# Set up the matplotlib figure\n",
        "f, ax = plt.subplots(figsize=(25, 25))\n",
        "\n",
        "# Generate a custom diverging colormap\n",
        "cmap = sns.diverging_palette(230, 20, as_cmap=True)\n",
        "\n",
        "# Draw the heatmap with the mask and correct aspect ratio\n",
        "sns.heatmap(corr, mask=mask, cmap=cmap, vmin=-.3 ,vmax=.3,center=0, square=True,annot=True ,linewidths=.5, cbar_kws={\"shrink\": .5})\n",
        "\n",
        "plt.show()"
      ]
    },
    {
      "cell_type": "markdown",
      "metadata": {},
      "source": [
        "## Matriz de correlación categórica"
      ]
    },
    {
      "cell_type": "code",
      "execution_count": null,
      "metadata": {},
      "outputs": [],
      "source": [
        "sns.set_theme(style=\"white\")\n",
        "\n",
        "# Compute the correlation matrix\n",
        "corr = columnas_categoricas_encoded.corr()\n",
        "\n",
        "# Generate a mask for the upper triangle\n",
        "mask = np.triu(np.ones_like(corr, dtype=bool))\n",
        "\n",
        "# Set up the matplotlib figure\n",
        "f, ax = plt.subplots(figsize=(25, 25))\n",
        "\n",
        "# Generate a custom diverging colormap\n",
        "cmap = sns.diverging_palette(230, 20, as_cmap=True)\n",
        "\n",
        "# Draw the heatmap with the mask and correct aspect ratio\n",
        "sns.heatmap(corr, mask=mask, cmap=cmap, vmin=-.3 ,vmax=.3,center=0, square=True,annot=True ,linewidths=.5, cbar_kws={\"shrink\": .5})\n",
        "\n",
        "plt.show()"
      ]
    },
    {
      "cell_type": "markdown",
      "metadata": {
        "id": "7aQP85LVPSby"
      },
      "source": [
        "# Validación Cruzada K-Folds"
      ]
    },
    {
      "cell_type": "markdown",
      "metadata": {
        "id": "Pemd3GuvP65C"
      },
      "source": [
        "# Regresión Lineal"
      ]
    },
    {
      "cell_type": "code",
      "execution_count": null,
      "metadata": {
        "id": "-3S5FjZrPVOr"
      },
      "outputs": [],
      "source": [
        "\n",
        "# Encuentra las filas con valores faltantes en el conjunto de validación\n",
        "filas_con_nan_val = np.isnan(X_val).any(axis=1) | np.isnan(y_val)\n",
        "\n",
        "# Elimina las filas correspondientes de X_val e y_val\n",
        "X_val_cleaned = X_val[~filas_con_nan_val]\n",
        "y_val_cleaned = y_val[~filas_con_nan_val]\n",
        "\n",
        "# Instanciar el imputador\n",
        "imputer = SimpleImputer(strategy='mean')\n",
        "\n",
        "# Ajustar y transformar los datos de entrenamiento\n",
        "X_train_imputed = imputer.fit_transform(X_val_cleaned)\n",
        "y_train_imputed = y_val_cleaned  # No hay necesidad de imputar las etiquetas\n",
        "\n",
        "# Transformar los datos de validación\n",
        "X_val_imputed = imputer.transform(X_val_cleaned)\n",
        "\n",
        "# Continuar con el entrenamiento del modelo y la evaluación en el conjunto de validación\n"
      ]
    },
    {
      "cell_type": "code",
      "execution_count": null,
      "metadata": {
        "colab": {
          "base_uri": "https://localhost:8080/",
          "height": 80
        },
        "id": "cxGcscMoPWji",
        "outputId": "00b195d7-5191-4af4-b6a4-34cc6101fa49"
      },
      "outputs": [],
      "source": [
        "# Crea una instancia del modelo de regresión lineal\n",
        "model = LinearRegression()\n",
        "model.fit(X_train_imputed, y_train_imputed)\n"
      ]
    },
    {
      "cell_type": "code",
      "execution_count": null,
      "metadata": {
        "id": "mgml4CCnPXny"
      },
      "outputs": [],
      "source": [
        "y_pred_val = model.predict(X_val_imputed)\n"
      ]
    },
    {
      "cell_type": "code",
      "execution_count": null,
      "metadata": {
        "colab": {
          "base_uri": "https://localhost:8080/"
        },
        "id": "HeZedCxgPrQi",
        "outputId": "f29bc02e-869b-43df-ef52-eba3a809d192"
      },
      "outputs": [],
      "source": [
        "\n",
        "coefficients = model.coef_\n",
        "intercept = model.intercept_\n",
        "print(\"Coefficients:\", coefficients)\n",
        "print(\"Intercept:\", intercept)\n",
        "\n",
        "# MSE: Error Cuadratico Medio\n",
        "mse = mean_squared_error(y_test, y_pred_val)\n",
        "\n",
        "# R^2\n",
        "r2 = r2_score(y_test, y_pred_val)\n",
        "\n",
        "# MAE: Error Absoluto Medio\n",
        "mae = mean_absolute_error(y_test, y_pred_val)\n",
        "\n",
        "# RMSE: Raíz del Error Cuadrático Medio\n",
        "rmse = np.sqrt(mean_squared_error(y_test, y_pred_val))\n",
        "\n",
        "print(f\"\\nR^2: {r2}\\n\")\n",
        "print(f\"MSE(Error Cuadratico Medio): {mse}\\n\")\n",
        "print(f\"MAE(Error Absoluto Medio): {mae}\\n\")\n",
        "print(f\"RMSE(Raíz del Error Cuadrático Medio): {rmse}\\n\")"
      ]
    },
    {
      "cell_type": "markdown",
      "metadata": {
        "id": "pA5-tpFuOvT1"
      },
      "source": [
        "# Gradiente descendiente"
      ]
    },
    {
      "cell_type": "code",
      "execution_count": null,
      "metadata": {
        "colab": {
          "base_uri": "https://localhost:8080/",
          "height": 80
        },
        "id": "8mV4Z-PeQyYq",
        "outputId": "b1662480-1fb0-4fe1-dccb-4e7de052e994"
      },
      "outputs": [],
      "source": [
        "# Regresión lineal utilizando SGDRegressor\n",
        "model_sgd = SGDRegressor(max_iter=1000, tol=1e-3, random_state=42)\n",
        "model_sgd.fit(X_train_imputed, y_train_imputed)"
      ]
    },
    {
      "cell_type": "code",
      "execution_count": null,
      "metadata": {
        "id": "TH1xzGdHQ_0b"
      },
      "outputs": [],
      "source": [
        "y_pred_sgd = model_sgd.predict(X_val_imputed)"
      ]
    },
    {
      "cell_type": "code",
      "execution_count": null,
      "metadata": {
        "colab": {
          "base_uri": "https://localhost:8080/"
        },
        "id": "EqfIu98XQHpJ",
        "outputId": "a39f4e9d-6ade-461c-851f-04be53046928"
      },
      "outputs": [],
      "source": [
        "# Coeficientes\n",
        "coefficients_sgd = model_sgd.coef_\n",
        "intercept_sgd = model_sgd.intercept_\n",
        "print(\"Coefficients (SGD):\", coefficients_sgd)\n",
        "print(\"Intercept (SGD):\", intercept_sgd)\n",
        "\n",
        "# MSE: Error Cuadrático Medio\n",
        "mse_sgd = mean_squared_error(y_test, y_pred_sgd)\n",
        "\n",
        "# R^2\n",
        "r2_sgd = r2_score(y_test, y_pred_sgd)\n",
        "\n",
        "# MAE: Error Absoluto Medio\n",
        "mae_sgd = mean_absolute_error(y_test, y_pred_sgd)\n",
        "\n",
        "# RMSE: Raíz del Error Cuadrático Medio\n",
        "rmse_sgd = np.sqrt(mse_sgd)\n",
        "\n",
        "print(f\"\\nR^2 (SGD): {r2_sgd}\\n\")\n",
        "print(f\"MSE (SGD): {mse_sgd}\\n\")\n",
        "print(f\"MAE (SGD): {mae_sgd}\\n\")\n",
        "print(f\"RMSE (SGD): {rmse_sgd}\\n\")"
      ]
    },
    {
      "cell_type": "markdown",
      "metadata": {
        "id": "6LJLWk5kRSOB"
      },
      "source": [
        "# Lasso"
      ]
    },
    {
      "cell_type": "code",
      "execution_count": null,
      "metadata": {
        "colab": {
          "base_uri": "https://localhost:8080/",
          "height": 80
        },
        "id": "BUHm8mVwRgGd",
        "outputId": "36c805ee-44d2-4348-adaa-ff15e2b75ef0"
      },
      "outputs": [],
      "source": [
        "lasso = Lasso(alpha=0.1)\n",
        "\n",
        "lasso.fit(X_train_imputed, y_train_imputed)"
      ]
    },
    {
      "cell_type": "code",
      "execution_count": null,
      "metadata": {
        "colab": {
          "base_uri": "https://localhost:8080/"
        },
        "id": "N2ShSlJbRlku",
        "outputId": "fca83f76-cdba-464b-e023-892b9cc20784"
      },
      "outputs": [],
      "source": [
        "print(\"\\nCoeficientes del modelo Lasso:\")\n",
        "print(lasso.coef_)\n",
        "print(\"Lasso Score df_train:\", lasso.score(X_val_imputed, y_test))\n",
        "print(\"Lasso Score df_test:\", lasso.score(X_val_imputed, y_test))"
      ]
    },
    {
      "cell_type": "markdown",
      "metadata": {
        "id": "HCl7f1rTRW8r"
      },
      "source": [
        "# Ridge"
      ]
    },
    {
      "cell_type": "code",
      "execution_count": null,
      "metadata": {
        "colab": {
          "base_uri": "https://localhost:8080/",
          "height": 80
        },
        "id": "qy3z8qLbRimW",
        "outputId": "1af05b75-aca9-477f-8799-7773796a56c9"
      },
      "outputs": [],
      "source": [
        "ridge = Ridge(alpha=0.1)\n",
        "\n",
        "ridge.fit(X_train_imputed, y_train_imputed)"
      ]
    },
    {
      "cell_type": "code",
      "execution_count": null,
      "metadata": {
        "colab": {
          "base_uri": "https://localhost:8080/"
        },
        "id": "yjXFCoBkRZPb",
        "outputId": "ba3e715a-2e44-4512-965a-990353c0e7b2"
      },
      "outputs": [],
      "source": [
        "print(\"\\nCoeficientes del modelo Ridge:\")\n",
        "print(ridge.coef_)\n",
        "print(\"Ridge Score df_train:\", ridge.score(X_val_imputed, y_test))\n",
        "print(\"Ridge Score df_test:\", ridge.score(X_val_imputed, y_test))"
      ]
    }
  ],
  "metadata": {
    "colab": {
      "collapsed_sections": [
        "UFXF-SSNUlfz",
        "Qr69zwnmUlf0",
        "bb5EG7aTj6Jg",
        "ZIEpeymaidWe",
        "C0zUJl7NUlf3",
        "VZSsm_aDu0-A",
        "PkdIvlF1vOME",
        "rkjIM34_Ulf5",
        "br9inSe4UlgH",
        "Pemd3GuvP65C",
        "pA5-tpFuOvT1"
      ],
      "provenance": []
    },
    "kernelspec": {
      "display_name": "Python 3",
      "language": "python",
      "name": "python3"
    },
    "language_info": {
      "codemirror_mode": {
        "name": "ipython",
        "version": 3
      },
      "file_extension": ".py",
      "mimetype": "text/x-python",
      "name": "python",
      "nbconvert_exporter": "python",
      "pygments_lexer": "ipython3",
      "version": "3.11.6"
    }
  },
  "nbformat": 4,
  "nbformat_minor": 0
}
